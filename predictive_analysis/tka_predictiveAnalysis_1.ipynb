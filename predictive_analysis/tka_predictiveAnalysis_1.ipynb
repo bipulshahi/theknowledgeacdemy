{
  "nbformat": 4,
  "nbformat_minor": 0,
  "metadata": {
    "colab": {
      "provenance": []
    },
    "kernelspec": {
      "name": "python3",
      "display_name": "Python 3"
    },
    "language_info": {
      "name": "python"
    }
  },
  "cells": [
    {
      "cell_type": "code",
      "execution_count": 1,
      "metadata": {
        "colab": {
          "base_uri": "https://localhost:8080/"
        },
        "id": "bjpfSSJBwF9N",
        "outputId": "15e68b85-747b-4fc0-88db-44c5939c7147"
      },
      "outputs": [
        {
          "output_type": "stream",
          "name": "stdout",
          "text": [
            "Hello World from Python!!!\n"
          ]
        }
      ],
      "source": [
        "print(\"Hello World from Python!!!\")"
      ]
    },
    {
      "cell_type": "code",
      "source": [
        "a = 8\n",
        "b = 4\n",
        "result = a + b\n",
        "print(result)"
      ],
      "metadata": {
        "colab": {
          "base_uri": "https://localhost:8080/"
        },
        "id": "HDv6P8APwmK5",
        "outputId": "735237b2-b6d1-40bf-9da5-3dc10b75f210"
      },
      "execution_count": 2,
      "outputs": [
        {
          "output_type": "stream",
          "name": "stdout",
          "text": [
            "12\n"
          ]
        }
      ]
    },
    {
      "cell_type": "markdown",
      "source": [
        "* **Variables & Values**\n",
        "* **Operators**\n",
        "* **Data types**\n",
        "* **Conditional Programming**\n",
        "* **Loops - for/while**\n",
        "* **function**"
      ],
      "metadata": {
        "id": "NVz-0NAww41C"
      }
    },
    {
      "cell_type": "code",
      "source": [
        "name = \"John\"\n",
        "print(name)"
      ],
      "metadata": {
        "colab": {
          "base_uri": "https://localhost:8080/"
        },
        "id": "Z4TYXhxnwrGu",
        "outputId": "567f28ca-f070-4e17-9748-94bc820d502a"
      },
      "execution_count": 3,
      "outputs": [
        {
          "output_type": "stream",
          "name": "stdout",
          "text": [
            "John\n"
          ]
        }
      ]
    },
    {
      "cell_type": "code",
      "source": [
        "print(\"Hello\" , name)"
      ],
      "metadata": {
        "colab": {
          "base_uri": "https://localhost:8080/"
        },
        "id": "1TWE9-I8xRCk",
        "outputId": "239e5994-a485-4a5a-c104-1ddc9f82688c"
      },
      "execution_count": 4,
      "outputs": [
        {
          "output_type": "stream",
          "name": "stdout",
          "text": [
            "Hello John\n"
          ]
        }
      ]
    },
    {
      "cell_type": "code",
      "source": [
        "print(type(name))"
      ],
      "metadata": {
        "colab": {
          "base_uri": "https://localhost:8080/"
        },
        "id": "gz9DOlc3xUz5",
        "outputId": "15cee3ba-714a-41f0-e64a-f07630479f84"
      },
      "execution_count": 5,
      "outputs": [
        {
          "output_type": "stream",
          "name": "stdout",
          "text": [
            "<class 'str'>\n"
          ]
        }
      ]
    },
    {
      "cell_type": "code",
      "source": [
        "age = 32\n",
        "print(age)"
      ],
      "metadata": {
        "colab": {
          "base_uri": "https://localhost:8080/"
        },
        "id": "PVp1qKaqxcWV",
        "outputId": "8ed815f6-12f1-49ce-97d7-7a4da44a4e35"
      },
      "execution_count": 6,
      "outputs": [
        {
          "output_type": "stream",
          "name": "stdout",
          "text": [
            "32\n"
          ]
        }
      ]
    },
    {
      "cell_type": "code",
      "source": [
        "print(type(age))"
      ],
      "metadata": {
        "colab": {
          "base_uri": "https://localhost:8080/"
        },
        "id": "dK6sc0T8xj12",
        "outputId": "34cc7b8f-26df-4c44-d166-ec795bca61a6"
      },
      "execution_count": 7,
      "outputs": [
        {
          "output_type": "stream",
          "name": "stdout",
          "text": [
            "<class 'int'>\n"
          ]
        }
      ]
    },
    {
      "cell_type": "code",
      "source": [
        "weight = 76.5\n",
        "print(weight)\n",
        "print(type(weight))"
      ],
      "metadata": {
        "colab": {
          "base_uri": "https://localhost:8080/"
        },
        "id": "JteNeTMgxrjy",
        "outputId": "f9ba8c72-291f-4177-b5ab-b4df12dcc5dc"
      },
      "execution_count": 8,
      "outputs": [
        {
          "output_type": "stream",
          "name": "stdout",
          "text": [
            "76.5\n",
            "<class 'float'>\n"
          ]
        }
      ]
    },
    {
      "cell_type": "code",
      "source": [
        "cities = [\"New York\", \"Los Angeles\", \"Chicago\"]\n",
        "print(cities)\n",
        "print(type(cities))"
      ],
      "metadata": {
        "colab": {
          "base_uri": "https://localhost:8080/"
        },
        "id": "n4BbfrXDx4rD",
        "outputId": "d281af14-ea44-4113-cf99-65c73eb52f37"
      },
      "execution_count": 9,
      "outputs": [
        {
          "output_type": "stream",
          "name": "stdout",
          "text": [
            "['New York', 'Los Angeles', 'Chicago']\n",
            "<class 'list'>\n"
          ]
        }
      ]
    },
    {
      "cell_type": "code",
      "source": [
        "print(cities[0])\n",
        "print(cities[2])"
      ],
      "metadata": {
        "colab": {
          "base_uri": "https://localhost:8080/"
        },
        "id": "4lZ6A5XhyYa-",
        "outputId": "2b926b6d-2812-4e71-dfb9-11e647e2cc21"
      },
      "execution_count": 11,
      "outputs": [
        {
          "output_type": "stream",
          "name": "stdout",
          "text": [
            "New York\n",
            "Chicago\n"
          ]
        }
      ]
    },
    {
      "cell_type": "code",
      "source": [
        "cities[1] = \"Paris\"\n",
        "print(cities)"
      ],
      "metadata": {
        "colab": {
          "base_uri": "https://localhost:8080/"
        },
        "id": "74J1QpNHyg8H",
        "outputId": "84fe33f0-3cd3-49d1-9e14-412de2bbc849"
      },
      "execution_count": 12,
      "outputs": [
        {
          "output_type": "stream",
          "name": "stdout",
          "text": [
            "['New York', 'Paris', 'Chicago']\n"
          ]
        }
      ]
    },
    {
      "cell_type": "code",
      "source": [
        "employees = (\"John\" , \"Joe\" , \"Jason\" , \"Jack\" , \"Joy\")\n",
        "print(employees)\n",
        "print(type(employees))"
      ],
      "metadata": {
        "colab": {
          "base_uri": "https://localhost:8080/"
        },
        "id": "iXbiu0UnyAsp",
        "outputId": "3ea59ac9-7ca4-4330-a240-8ac623538154"
      },
      "execution_count": 10,
      "outputs": [
        {
          "output_type": "stream",
          "name": "stdout",
          "text": [
            "('John', 'Joe', 'Jason', 'Jack', 'Joy')\n",
            "<class 'tuple'>\n"
          ]
        }
      ]
    },
    {
      "cell_type": "code",
      "source": [
        "employees[2] = \"James\"\n",
        "print(employees)"
      ],
      "metadata": {
        "colab": {
          "base_uri": "https://localhost:8080/",
          "height": 187
        },
        "id": "pIItXO76yRQ6",
        "outputId": "e88b5987-ae3c-40a4-cc2b-72efb7ae90bb"
      },
      "execution_count": 13,
      "outputs": [
        {
          "output_type": "error",
          "ename": "TypeError",
          "evalue": "'tuple' object does not support item assignment",
          "traceback": [
            "\u001b[0;31m---------------------------------------------------------------------------\u001b[0m",
            "\u001b[0;31mTypeError\u001b[0m                                 Traceback (most recent call last)",
            "\u001b[0;32m<ipython-input-13-243f6a38adac>\u001b[0m in \u001b[0;36m<cell line: 1>\u001b[0;34m()\u001b[0m\n\u001b[0;32m----> 1\u001b[0;31m \u001b[0memployees\u001b[0m\u001b[0;34m[\u001b[0m\u001b[0;36m2\u001b[0m\u001b[0;34m]\u001b[0m \u001b[0;34m=\u001b[0m \u001b[0;34m\"James\"\u001b[0m\u001b[0;34m\u001b[0m\u001b[0;34m\u001b[0m\u001b[0m\n\u001b[0m\u001b[1;32m      2\u001b[0m \u001b[0mprint\u001b[0m\u001b[0;34m(\u001b[0m\u001b[0memployees\u001b[0m\u001b[0;34m)\u001b[0m\u001b[0;34m\u001b[0m\u001b[0;34m\u001b[0m\u001b[0m\n",
            "\u001b[0;31mTypeError\u001b[0m: 'tuple' object does not support item assignment"
          ]
        }
      ]
    },
    {
      "cell_type": "code",
      "source": [
        "employees_details = {\"Name\" : [\"Gitika\" , \"Bipul\" , \"Rohan\" , \"Rockey\"],\n",
        "                     \"Age\" : [30 , 32 , 33 , 34],\n",
        "                     \"Salary\" : [5500.5 , 6500.9 , 4500 , 6598.7],\n",
        "                     \"Email\" : [\"gitika@abc.com\" , \"bipul@abc.com\" , \"rohan@anc.com\" , \"rokey@anc.com\"]}\n",
        "\n",
        "print(employees_details)\n",
        "print(type(employees_details))\n",
        ""
      ],
      "metadata": {
        "colab": {
          "base_uri": "https://localhost:8080/"
        },
        "id": "Is-uYs9LyvV-",
        "outputId": "68c3a514-d7ba-41c0-8033-e769da9ecd8e"
      },
      "execution_count": 18,
      "outputs": [
        {
          "output_type": "stream",
          "name": "stdout",
          "text": [
            "{'Name': ['Gitika', 'Bipul', 'Rohan', 'Rockey'], 'Age': [30, 32, 33, 34], 'Salary': [5500.5, 6500.9, 4500, 6598.7], 'Email': ['gitika@abc.com', 'bipul@abc.com', 'rohan@anc.com', 'rokey@anc.com']}\n",
            "<class 'dict'>\n"
          ]
        }
      ]
    },
    {
      "cell_type": "code",
      "source": [
        "print(employees_details.keys())\n",
        "print(employees_details.values())"
      ],
      "metadata": {
        "colab": {
          "base_uri": "https://localhost:8080/"
        },
        "id": "49cjjNE7zW8r",
        "outputId": "e8ec6121-8bb6-4beb-eb34-8b5974736d39"
      },
      "execution_count": 19,
      "outputs": [
        {
          "output_type": "stream",
          "name": "stdout",
          "text": [
            "dict_keys(['Name', 'Age', 'Salary', 'Email'])\n",
            "dict_values([['Gitika', 'Bipul', 'Rohan', 'Rockey'], [30, 32, 33, 34], [5500.5, 6500.9, 4500, 6598.7], ['gitika@abc.com', 'bipul@abc.com', 'rohan@anc.com', 'rokey@anc.com']])\n"
          ]
        }
      ]
    },
    {
      "cell_type": "code",
      "source": [
        "print(employees_details['Name'])"
      ],
      "metadata": {
        "colab": {
          "base_uri": "https://localhost:8080/"
        },
        "id": "wHIWKQ6bzOOH",
        "outputId": "d63ab5e7-9b57-434b-e0df-18aef7b5210b"
      },
      "execution_count": 20,
      "outputs": [
        {
          "output_type": "stream",
          "name": "stdout",
          "text": [
            "['Gitika', 'Bipul', 'Rohan', 'Rockey']\n"
          ]
        }
      ]
    },
    {
      "cell_type": "markdown",
      "source": [
        "**Operators**\n",
        "  * Arthemetic\n",
        "  * Comparasion\n",
        "  * Logical\n",
        "  * Membership"
      ],
      "metadata": {
        "id": "QoTqnb0R0GSw"
      }
    },
    {
      "cell_type": "code",
      "source": [
        "a = 15\n",
        "b = 6\n",
        "\n",
        "print(a + b)\n",
        "print(a - b)\n",
        "print(a * b)\n",
        "print(a / b)\n",
        "print(a % b)       #Modulus Division\n",
        "print(a ** b)      #exp operator, raised to the power\n",
        "print(a // b)       #floor division"
      ],
      "metadata": {
        "colab": {
          "base_uri": "https://localhost:8080/"
        },
        "id": "De_9AgP0zTin",
        "outputId": "fbe5975c-16ed-4fc5-8931-d4e945a7d4ff"
      },
      "execution_count": 22,
      "outputs": [
        {
          "output_type": "stream",
          "name": "stdout",
          "text": [
            "21\n",
            "9\n",
            "90\n",
            "2.5\n",
            "3\n",
            "11390625\n",
            "2\n"
          ]
        }
      ]
    },
    {
      "cell_type": "code",
      "source": [
        "print(a == b)\n",
        "print(a != b)\n",
        "print(a > b)\n",
        "print(a < b)\n",
        "print(a >= b)\n",
        "print(a <= b)"
      ],
      "metadata": {
        "colab": {
          "base_uri": "https://localhost:8080/"
        },
        "id": "dGBkPcn40ex0",
        "outputId": "8f4fb70d-37df-409f-f188-970018a328dc"
      },
      "execution_count": 24,
      "outputs": [
        {
          "output_type": "stream",
          "name": "stdout",
          "text": [
            "False\n",
            "True\n",
            "True\n",
            "False\n",
            "True\n",
            "False\n"
          ]
        }
      ]
    },
    {
      "cell_type": "code",
      "source": [
        "age = 32\n",
        "\n",
        "print(age > 18 and age < 50)"
      ],
      "metadata": {
        "colab": {
          "base_uri": "https://localhost:8080/"
        },
        "id": "Go9ZssQ9022S",
        "outputId": "d7b68d57-28f0-4f09-8305-6b5a6c43b622"
      },
      "execution_count": 27,
      "outputs": [
        {
          "output_type": "stream",
          "name": "stdout",
          "text": [
            "True\n"
          ]
        }
      ]
    },
    {
      "cell_type": "code",
      "source": [
        "age = 52\n",
        "\n",
        "print(age > 18 and age < 50)"
      ],
      "metadata": {
        "colab": {
          "base_uri": "https://localhost:8080/"
        },
        "id": "q3YAFZeU1FYx",
        "outputId": "513a248e-7c2c-462d-9465-bb60b66ae1fa"
      },
      "execution_count": 28,
      "outputs": [
        {
          "output_type": "stream",
          "name": "stdout",
          "text": [
            "False\n"
          ]
        }
      ]
    },
    {
      "cell_type": "code",
      "source": [
        "age = 17\n",
        "\n",
        "print(age > 18 and age < 50)"
      ],
      "metadata": {
        "colab": {
          "base_uri": "https://localhost:8080/"
        },
        "id": "ckxuGmwO1TpB",
        "outputId": "99299c05-28d2-45a0-fdae-884b5fa8d465"
      },
      "execution_count": 29,
      "outputs": [
        {
          "output_type": "stream",
          "name": "stdout",
          "text": [
            "False\n"
          ]
        }
      ]
    },
    {
      "cell_type": "code",
      "source": [
        "age = 32\n",
        "\n",
        "print(age > 18 or age < 50)"
      ],
      "metadata": {
        "colab": {
          "base_uri": "https://localhost:8080/"
        },
        "id": "fcJwCcC21VdD",
        "outputId": "82f98d54-5234-4427-806a-39e88ed31b2f"
      },
      "execution_count": 30,
      "outputs": [
        {
          "output_type": "stream",
          "name": "stdout",
          "text": [
            "True\n"
          ]
        }
      ]
    },
    {
      "cell_type": "code",
      "source": [
        "age = 52\n",
        "\n",
        "print(age > 18 or age < 50)"
      ],
      "metadata": {
        "colab": {
          "base_uri": "https://localhost:8080/"
        },
        "id": "MwPr7L9n1ciE",
        "outputId": "c469e7f6-4031-4986-94ca-dfc279ec3344"
      },
      "execution_count": 31,
      "outputs": [
        {
          "output_type": "stream",
          "name": "stdout",
          "text": [
            "True\n"
          ]
        }
      ]
    },
    {
      "cell_type": "code",
      "source": [
        "age = 17\n",
        "\n",
        "print(age > 18 or age < 50)"
      ],
      "metadata": {
        "colab": {
          "base_uri": "https://localhost:8080/"
        },
        "id": "Mlt1yyR61e6R",
        "outputId": "6d776eb0-222a-4b6e-c79d-ff1589138fa9"
      },
      "execution_count": 32,
      "outputs": [
        {
          "output_type": "stream",
          "name": "stdout",
          "text": [
            "True\n"
          ]
        }
      ]
    },
    {
      "cell_type": "code",
      "source": [
        "text = \"Hello, are you there?\"\n",
        "print(\"you\" in text)"
      ],
      "metadata": {
        "colab": {
          "base_uri": "https://localhost:8080/"
        },
        "id": "WY1wNHB51hug",
        "outputId": "601588a2-49d1-4e8e-8f0f-671c4fa4ddb5"
      },
      "execution_count": 33,
      "outputs": [
        {
          "output_type": "stream",
          "name": "stdout",
          "text": [
            "True\n"
          ]
        }
      ]
    },
    {
      "cell_type": "code",
      "source": [
        "cities = [\"New York\", \"Los Angeles\", \"Chicago\"]\n",
        "print(cities)\n",
        "print(\"Chicago\" in cities)"
      ],
      "metadata": {
        "colab": {
          "base_uri": "https://localhost:8080/"
        },
        "id": "SIlc0Xp91xE9",
        "outputId": "66b31423-8a07-43e6-e919-e767f13068c3"
      },
      "execution_count": 34,
      "outputs": [
        {
          "output_type": "stream",
          "name": "stdout",
          "text": [
            "['New York', 'Los Angeles', 'Chicago']\n",
            "True\n"
          ]
        }
      ]
    },
    {
      "cell_type": "code",
      "source": [
        "cities = [\"New York\", \"Los Angeles\", \"Chicago\"]\n",
        "print(cities)\n",
        "print(\"Chicago\" not in cities)"
      ],
      "metadata": {
        "colab": {
          "base_uri": "https://localhost:8080/"
        },
        "id": "eArjcmIv13D7",
        "outputId": "ee1308e9-75da-4e72-9dec-b579d897c07d"
      },
      "execution_count": 35,
      "outputs": [
        {
          "output_type": "stream",
          "name": "stdout",
          "text": [
            "['New York', 'Los Angeles', 'Chicago']\n",
            "False\n"
          ]
        }
      ]
    },
    {
      "cell_type": "markdown",
      "source": [
        "**Conditinal Programming**"
      ],
      "metadata": {
        "id": "NtR-Fie22ObP"
      }
    },
    {
      "cell_type": "code",
      "source": [
        "age = int(input(\"Enter your age: \"))   #user entered values in python is string\n",
        "print(age)\n",
        "\n",
        "if age >= 18:\n",
        "  print(\"You are eligible to vote\")\n",
        "else:\n",
        "  print(\"You are not eligible to vote\")"
      ],
      "metadata": {
        "colab": {
          "base_uri": "https://localhost:8080/"
        },
        "id": "BnnC-S_I16Js",
        "outputId": "ce3a9da0-3b7b-409a-bb39-4ca4dd19cd3e"
      },
      "execution_count": 39,
      "outputs": [
        {
          "output_type": "stream",
          "name": "stdout",
          "text": [
            "Enter your age: 43\n",
            "43\n",
            "You are eligible to vote\n"
          ]
        }
      ]
    },
    {
      "cell_type": "markdown",
      "source": [
        "**Loop**"
      ],
      "metadata": {
        "id": "bWe14iJI4ddH"
      }
    },
    {
      "cell_type": "code",
      "source": [
        "for i in range(10):\n",
        "  print(i)"
      ],
      "metadata": {
        "colab": {
          "base_uri": "https://localhost:8080/"
        },
        "id": "QzLN_kGL4e7G",
        "outputId": "8a3da205-98c9-4c1e-d168-afd05b9944cc"
      },
      "execution_count": 45,
      "outputs": [
        {
          "output_type": "stream",
          "name": "stdout",
          "text": [
            "0\n",
            "1\n",
            "2\n",
            "3\n",
            "4\n",
            "5\n",
            "6\n",
            "7\n",
            "8\n",
            "9\n"
          ]
        }
      ]
    },
    {
      "cell_type": "code",
      "source": [
        "for i in range(0,10):\n",
        "  print(\"Hello World\")"
      ],
      "metadata": {
        "colab": {
          "base_uri": "https://localhost:8080/"
        },
        "id": "lX_-oroi4zLO",
        "outputId": "164a07c1-6dc3-4321-c7a2-8a6636c591ab"
      },
      "execution_count": 46,
      "outputs": [
        {
          "output_type": "stream",
          "name": "stdout",
          "text": [
            "Hello World\n",
            "Hello World\n",
            "Hello World\n",
            "Hello World\n",
            "Hello World\n",
            "Hello World\n",
            "Hello World\n",
            "Hello World\n",
            "Hello World\n",
            "Hello World\n"
          ]
        }
      ]
    },
    {
      "cell_type": "markdown",
      "source": [
        "**mean & standard deviation**"
      ],
      "metadata": {
        "id": "R6LSDoLd51A9"
      }
    },
    {
      "cell_type": "code",
      "source": [
        "a = 7\n",
        "b = 2\n",
        "print(a-b)"
      ],
      "metadata": {
        "colab": {
          "base_uri": "https://localhost:8080/"
        },
        "id": "Eh5mum-AE_jz",
        "outputId": "b90d4e1b-ef84-445a-c86b-b19328930e39"
      },
      "execution_count": 84,
      "outputs": [
        {
          "output_type": "stream",
          "name": "stdout",
          "text": [
            "5\n"
          ]
        }
      ]
    },
    {
      "cell_type": "code",
      "source": [
        "import statistics\n",
        "marks = [17,19,21,22,27,28,29,32,35,23,24]\n",
        "\n",
        "mean_marks = statistics.mean(marks)\n",
        "print(mean_marks)"
      ],
      "metadata": {
        "colab": {
          "base_uri": "https://localhost:8080/"
        },
        "id": "7P54sHvq53p1",
        "outputId": "93067c35-0094-4465-ec7e-8740af7a681f"
      },
      "execution_count": 50,
      "outputs": [
        {
          "output_type": "stream",
          "name": "stdout",
          "text": [
            "25.181818181818183\n"
          ]
        }
      ]
    },
    {
      "cell_type": "code",
      "source": [
        "#variance\n",
        "import numpy             #import numerical python => perform nemerical calculation with arrays\n",
        "\n",
        "variance_of_marks = ((numpy.array(marks) - mean_marks)**2).mean()\n",
        "print(variance_of_marks)"
      ],
      "metadata": {
        "colab": {
          "base_uri": "https://localhost:8080/"
        },
        "id": "lc3pHNNv6hgZ",
        "outputId": "6921b518-7ab5-4fc7-c13a-84620e19838b"
      },
      "execution_count": 55,
      "outputs": [
        {
          "output_type": "stream",
          "name": "stdout",
          "text": [
            "27.966942148760335\n"
          ]
        }
      ]
    },
    {
      "cell_type": "code",
      "source": [
        "#standard deviation = square root of variance\n",
        "standard_deviation = variance_of_marks**0.5\n",
        "print(standard_deviation)"
      ],
      "metadata": {
        "colab": {
          "base_uri": "https://localhost:8080/"
        },
        "id": "QPby-Xst7Nkt",
        "outputId": "486e53a5-698f-448f-c0f1-a046c7e88141"
      },
      "execution_count": 56,
      "outputs": [
        {
          "output_type": "stream",
          "name": "stdout",
          "text": [
            "5.288378026272359\n"
          ]
        }
      ]
    },
    {
      "cell_type": "code",
      "source": [
        "print(\"Range of 1st Standard deviation - \")\n",
        "print(mean_marks - standard_deviation)\n",
        "print(mean_marks + standard_deviation)"
      ],
      "metadata": {
        "colab": {
          "base_uri": "https://localhost:8080/"
        },
        "id": "7k4Sp64-7V4g",
        "outputId": "48c17a2f-3478-4465-d6f9-cc4136496b40"
      },
      "execution_count": 59,
      "outputs": [
        {
          "output_type": "stream",
          "name": "stdout",
          "text": [
            "Range of 1st Standard deviation - \n",
            "19.893440155545825\n",
            "30.47019620809054\n"
          ]
        }
      ]
    },
    {
      "cell_type": "code",
      "source": [
        "print(\"Range of 2nd Standard deviation - \")\n",
        "print(mean_marks - 2 * standard_deviation)\n",
        "print(mean_marks + 2 * standard_deviation)"
      ],
      "metadata": {
        "colab": {
          "base_uri": "https://localhost:8080/"
        },
        "id": "c7NMrDFg75oN",
        "outputId": "bf7a75e1-23fc-45c1-c87f-667ba98d8110"
      },
      "execution_count": 60,
      "outputs": [
        {
          "output_type": "stream",
          "name": "stdout",
          "text": [
            "Range of 2nd Standard deviation - \n",
            "14.605062129273465\n",
            "35.758574234362904\n"
          ]
        }
      ]
    },
    {
      "cell_type": "code",
      "source": [
        "print(\"Range of 3rd Standard deviation - \")\n",
        "print(mean_marks - 3 * standard_deviation)\n",
        "print(mean_marks + 3 * standard_deviation)"
      ],
      "metadata": {
        "colab": {
          "base_uri": "https://localhost:8080/"
        },
        "id": "dF7nqPZI8Jgw",
        "outputId": "5243dd37-a886-4be0-f453-1f8ba8563013"
      },
      "execution_count": 61,
      "outputs": [
        {
          "output_type": "stream",
          "name": "stdout",
          "text": [
            "Range of 3rd Standard deviation - \n",
            "9.316684103001105\n",
            "41.046952260635265\n"
          ]
        }
      ]
    },
    {
      "cell_type": "markdown",
      "source": [
        "* Generate a dataset\n",
        "* Calculate mean & standard deviation\n",
        "* Apply some condition"
      ],
      "metadata": {
        "id": "Onpg70k03w-X"
      }
    },
    {
      "cell_type": "code",
      "source": [
        "import random\n",
        "import statistics\n",
        "\n",
        "#generate a daset with random values\n",
        "#print(random.random(), random.random() , random.random() , random.random(), random.random())\n",
        "\n",
        "data = []          #blank list\n",
        "\n",
        "for i in range(1000):\n",
        "  #print(random.random())\n",
        "  data.append(random.gauss(0,1))        #append() - keep stroring the values generated everytime into the list defined as data\n",
        "\n",
        "print(data)"
      ],
      "metadata": {
        "colab": {
          "base_uri": "https://localhost:8080/"
        },
        "id": "PpGNuU3X2b3V",
        "outputId": "843954b2-5604-4d5e-8517-b300449bb2f0"
      },
      "execution_count": 76,
      "outputs": [
        {
          "output_type": "stream",
          "name": "stdout",
          "text": [
            "[0.5433161245913811, 0.3022382490228872, -0.9476726752588063, -0.8353760119673574, -1.4464342029439403, 0.09460694500965897, 0.11227765784887461, 0.12062386318047094, 0.05331509859515621, -1.1349848367874276, -0.9651551561369064, 0.5211067797228868, -2.2206272680590207, 0.41002685308963516, 0.12995650609997075, 0.30424893982259904, -1.977546362958323, 0.8894367051531356, -0.27385735684294693, -1.5089453450659038, -0.32014125364420515, 0.527363119046247, -0.3788816882147354, -1.5780929691552776, 0.23690797745335734, -0.0954321716101939, 2.2429382808178633, 0.00337601468641488, -1.2349869263445712, 1.1662335107556199, 1.928964907524601, -0.7382139366923013, 0.7225941730528809, 0.3084816060938416, 0.2060039164668158, 0.8822042405132176, -0.7962289737588573, -0.9575355510662282, -0.11116731384537883, -2.374948501923352, -0.6835891086349357, -0.9890444189896661, -0.6541264085813367, -0.4368989891872229, 0.4470486535207662, 1.5141685456161806, -0.15089603411625832, -0.42901854689275976, 0.08996950848443663, 0.8854493566688356, -0.46321325059489443, 0.4466347666235727, 1.1420020992819515, 1.1586298737201797, 0.1235324956599045, 1.5616070413280465, 0.1093697890221821, -2.0147360812624098, 1.4136519972173345, 0.9984300870392965, 1.6046986912021344, -0.7943006982197781, -2.0112420984179793, -0.7602451577575641, -0.1131202149253501, -0.20280000942675214, 0.851575887183524, -0.7187200790013291, -0.39589677153160324, 0.2133254834652023, 1.4420332295777516, 0.19363009578463009, 0.35715615484703056, -1.0641785007306335, -0.6937027630591326, -0.0027207433770760348, 0.4408575643003414, -0.58311893876661, -1.1838763394969083, -0.5181010211205013, -2.4306251032516535, 1.1910246803144136, 1.536367292790937, -0.12481786064402177, -0.8188052157296669, 0.511153182701702, 0.49533337626584456, 0.35839586072112345, 0.16054985675465452, -0.2453641654522404, -1.288298397566892, -0.607045617935151, -0.5422857756566204, -0.041098054973625175, 0.19679423948566588, 1.420443487519585, 0.1001989109245823, 0.24142687491225678, -1.0889514869411419, -1.1866767893215093, -0.328954135721465, -2.4595468039341677, 0.24808281366042392, -0.8078022969659164, 0.25891838810937806, -0.09727687748567396, 0.8172578237637879, -0.4183972585956006, 0.7876875234786457, -0.5531090581754529, 0.35291409046486955, -0.7713770425491792, -0.9485380403723122, 1.8720408231442442, -0.2477655369890803, 0.6387795948870926, 1.0896118458130786, 0.45870396920720485, -0.9561099016195018, 0.3269467331563592, -0.6311151385359081, 0.20695913905376404, 1.0561605866807056, 0.01664080083911069, -1.005994627388293, 0.4372188175767709, -1.3949694653625395, -1.5403653158209454, -0.054898377526492695, -1.0167851931269722, 0.5688699662626703, 0.21066077963382726, 0.5870708938332518, -0.410151398368764, -0.012529043110866743, -0.37525405016168856, 0.1383672379089253, 0.41974579652243577, 0.848550964095163, -0.6803500576535524, 2.171698854521117, 0.32949218473294295, 0.9741260826846109, 1.6346538485932005, 0.06245483919212857, -0.5740650576612145, -1.2292628118481295, -1.7398035010598154, -2.02439963299455, -0.9666982969136584, -0.9039029610671349, 1.0683689052329284, -0.2606673242373959, -0.21840122499883555, 0.32323849977600405, -0.34343790871449664, 0.6332449270282308, 1.2135380063052177, -0.5373650203650353, -1.5723170412995264, -2.6869633223638476, -0.3714098856717127, 0.42540597945801994, -0.0487395405705307, -0.7143145747777443, 0.16343982687595315, -2.8536146341386712, -0.29097894995076556, -0.10274526271065193, 0.9607035511403931, -0.7652293471228714, -0.23236769293002182, 1.0073778257769708, 0.350691995616191, 0.4648579732301587, 0.4597220634788178, 0.00458889392923349, -2.0476333719363895, -0.40616764077283724, 0.4087780260318468, 0.48431457194377303, -0.41114232269263423, -0.6659125883253508, 0.5321555805432974, 0.9464767031367606, 1.38778925683578, 0.8681929845236538, 0.21133617658535653, -0.8801411789762367, -0.05682291660118501, 0.5248560003172251, 2.24960871920354, -2.1026368307384247, -0.9313759717653981, 0.7124239245710492, -0.22533985448851823, 0.5487722669935893, -1.6355422184993778, -0.2342800029705533, 0.8697194984861332, 0.016897634807928424, -0.524274226454514, 0.28145276084844983, 0.048291994007357494, 0.24926832300535856, -0.6707791927056148, -0.8188343952350174, -1.995126093897146, 1.2740310448124779, 1.1743327019725676, -0.5752356986858082, -0.05287357500658601, -1.2360961515512658, 0.7901104411953609, 0.09436490192024234, 1.0171014257616304, 0.16220764895937262, -1.3442662125455629, 0.24924689526366176, 2.154331500966845, -1.0253930611116104, -0.3049263049471081, 0.12383107365164267, -1.7414069403762364, 1.4826218215610332, -0.3028577330146131, -1.9011981366304378, -2.2712711666146896, 0.1575578667251915, 0.3210909322822925, -0.91353893725725, -2.039564394493953, -0.7367806738584914, 0.874333017888344, 0.10279099434022416, 0.3543478178097927, -0.10153135248937557, 0.13589921476795244, 0.4544526435828897, 0.9595671253003878, 0.68956883545006, -0.24310736856606524, -1.7850693525244634, 0.4538096280538783, 0.540404904583505, -1.3283796226124382, 1.1856091797660633, -1.6752063239344062, 0.09465627234771848, -0.2632301027290812, -0.18440828340523968, 0.25102923713424374, 0.7975348342305587, 1.080224568033179, -0.37101010935690465, 2.846620700257037, 1.9577149087848227, 0.406037467365924, 1.5136383382003729, 0.3341784673993391, -1.6788709283405654, -1.7091054789214442, 1.1435265629376792, 0.3832014868989088, -1.13961824203515, -0.7634512278898645, -0.3022464606428484, 0.08119796823029131, -1.022920342711183, -0.4472581157232592, -0.3884416432514188, -0.6862766536790935, 1.4381649105463508, -0.18785363910200267, -0.537817146736092, -0.11801692395468633, 1.7995036506650355, 0.5609391899667698, 0.3428123917506483, -1.1343892310226693, 0.39545477005209817, -0.6889214848751566, 0.4116190977871739, -0.1653251035209528, 0.3590277594884053, -0.6250901355833898, -0.4767976728082307, -0.030979982801667187, 0.24584325341391075, 0.2766781281074401, 0.8948452622428049, -2.070342597378404, -1.5278198929416413, -1.5003138650628294, -0.22922910582433495, 0.4856130317248966, 0.8224016057825194, -0.0004821424533872327, -0.9682032406910597, 1.8489805499139675, 0.36375078624648755, -1.4770718063318669, 0.18374519130408132, 0.0330182306071461, -0.5874646767845723, -0.9678368758548489, 0.07773354031962669, 1.0180890075932125, 0.7801058907903872, 1.597217916398591, 0.9299950830839245, -0.6330550715628298, 0.15628933996412603, -1.4764589723549488, 0.29102690644681034, -1.4430713995287783, -0.37024771130669454, -0.5611794939753474, 1.4320754354120093, 1.8010800979634316, -0.5903827285715549, 1.2871290610130968, 0.6509346886844055, -0.5921448367078941, 1.096152169319381, 1.2224239465057696, -1.5562810976230979, -0.8378343992376146, -0.42670696943312403, -0.6956300204117736, 0.3982598249202935, -0.17348011133533683, -0.5358327395753383, -0.9395272540423413, 0.249937367997115, 0.9921661466790274, 1.2233100609361494, -0.8166544465376286, 0.48447701442523433, 1.685131356099214, 1.1350983179012053, 1.133069106634688, 0.7382599331292955, -0.5179678043563242, -0.33043009610851237, -1.8829147337421595, 1.5996390642738134, 0.12113836333178057, 0.7225306923816861, 1.9728824819517052, 1.1371318667945807, -1.2227256721595559, 1.0651397485191096, -0.7280405247648317, -1.429707052127561, 0.5619095439097733, 0.11848766499214695, 0.0203584733147933, -0.8254749366029871, -0.9064278288575334, 0.3840861653140627, -0.1330441281863442, 1.11034785183075, 0.05751912147712891, 2.0670443308092805, -0.9697356564596554, 1.494896527702539, -1.0663720038254907, -0.4332673280353513, 1.7631313019279036, -0.3499745199654612, 0.7180158861926479, 0.7359977721194609, -0.8109333979910125, 1.814919864609128, 0.20682428991663276, 1.2289423246324545, 0.653907161779641, -0.9329820506611848, -0.3469812772230679, 1.1627265259934814, -1.04188454613343, 0.07405176310951883, -0.5989725712339968, -0.3909016965959348, -1.6290626779953785, 0.507530371411141, 0.5893986526147532, -0.7396863099970075, 0.25447625368861543, -0.33406566166871093, -1.1037663454907742, 1.249927890186485, 0.08491209840958498, 1.2374321798779957, -0.9832793852967002, -1.0378194631344722, 0.8881786655862475, -1.0132780346479267, 0.9500976732054469, 1.2558007790453074, -0.797182954043592, 0.4036216615027512, -1.0855973129262637, -0.5223294480334473, -0.45349808368433486, 0.7215289095741232, -0.33815174730892866, -0.4835880150844284, 0.592989527691496, -0.3717794423795317, -0.22815690998659977, -0.7830206999804319, 2.3321184788129106, 0.6418557517820824, -2.1393265638414416, 1.1933379712284578, -0.11512623759125606, -0.1729381212079333, -0.7348534458148182, -0.07495559723889439, -0.9282936324724882, -0.3798820244113334, -1.0383231037609602, -0.7987523475475807, 0.4973032087074518, -0.5947628212289211, 0.1966942631804847, 1.2973558252644177, -1.1311788217681218, 1.4394054684523925, -0.24557101637977408, 1.4036149171752386, 0.45491147356262585, 0.3940982910273791, -2.3133607965666463, 1.2101748481482304, -0.23745298181129576, 0.4652338522754867, -0.25065623661623576, 1.176811880703545, 1.5731332263858107, 0.17612525093148013, -1.3101790490136043, -0.4622106057424392, 0.4172493460412347, -1.0686556298229717, -0.6221575964435373, -0.32603637345163083, 0.0785327151697817, -1.4409117441365427, -1.800006521560868, -1.1606068969714363, -1.4106837562966859, 1.9189354472432554, 0.3330830999628589, 0.7633647283410677, -1.125448394345199, -0.9033521238035389, -0.5772789557634241, -1.5127622223327506, 0.5698433838192676, -1.5119297040963915, 1.443917097800173, 0.20934308757076328, 0.11739695278806979, 0.9471167706075119, 0.21322206162012827, 1.3684998370770092, 0.01006087142178792, 0.8595007112343066, 0.903634348119723, -2.2119406904849965, -1.1914186573162795, -1.2776093494250536, 0.462642479629353, -1.5386286942907152, 0.31489465786517334, -0.6771086865758553, -1.3276627387235627, -1.0502791531681337, 0.3940583325073773, 0.39694760726388467, -0.6777792304443516, 0.0824601823713287, 0.09934028558277148, 0.8228026183984066, -0.9942463534848416, 0.13703284552295714, -1.4430051561250328, -1.1524905961488487, 0.3432725412934606, -0.583649105357359, -0.2134679383735358, 0.7146464242858314, -0.2590309387413645, -0.03870914043803826, -1.307056794995969, 1.4457919858341028, 0.05515633977445182, 0.6640964908620827, 1.2760168437432124, -1.0981023440323878, 0.292268390354099, -1.11991397767497, 0.021966383103440134, -0.4741408243616679, -0.37615084030537455, 0.7639866610859939, 0.4881558519330312, 0.07317576618993228, -2.345263850764594, 0.038758330479618706, -0.20263897492127392, -2.563573151050428, 0.07321870127426552, 0.79077687312274, 0.623122309337069, 0.3316725497398203, 0.08446757605146217, 0.9926761147449976, -1.1409217026555347, 0.1093994735557015, -0.6505676209560605, 0.03553805017939171, 0.41781487978739895, 1.285954384021236, 1.1336007144448608, 1.006099856211597, -1.8721621047192543, 2.073708226883589, -0.9666111382343618, 0.3787882636163446, 0.28404648618263817, 0.15422254253673845, -0.006471691947565358, 0.9878246264349636, -1.7221363594758778, -1.4874122356571253, 0.5217253346095386, -0.8078895433028134, -2.155065469316821, 0.6574866925506001, 0.36520244185404416, -0.6921154902171882, 1.5844549969712776, 1.5639950310955677, 0.5166155391384818, -0.241904973330464, -0.921773540131465, 0.2848712149673134, 0.7849468682266898, 0.5487957849009802, 2.0782093074833545, 0.39187710106511864, -0.022402506559368974, 0.8124940888108746, -0.4786364922823677, 0.27048193848349, 0.5086307895047744, 0.3913737928203619, -1.081210744072932, -0.19218064439698845, -0.19236540385188874, 0.6134468553790398, 1.2439601406750507, 0.5335285094284667, 0.0871124966731962, 1.5958342560875887, 1.5915480352345426, 0.10879463504025189, -0.8824818119078142, 2.2817274473446667, 0.7125295476512221, -1.4990725466745092, 0.8956835325430086, -0.22794984024113554, -0.15693755924374342, 0.9946673016055994, -1.1812918982982328, 0.4151231152308775, -0.10155244024388096, 0.6316617184221275, -0.63076667317779, -0.31363236025573565, -0.6687442811147072, 0.6574659720271293, -1.256009560620682, 1.0479122992925352, -0.8652541924688611, -0.7218316472487109, -0.13670694987800025, -0.5794707683375774, 1.5063021240494223, 0.27830588147871993, 1.9439298999885994, -0.9693394030258651, 0.03263585684156715, -0.13289790594835008, 0.2718544807923038, -1.3630856546451326, -1.1462519672248717, 0.11989493919003584, -0.27243709060520355, -2.5537556236768064, -2.008195307087348, 0.09312247128138341, -1.9690379493553125, -1.3730841402936074, 0.31939913197173153, 0.4842289667693241, -0.8942506834698126, 0.20319824463303732, -0.8924185398794615, -0.16390595556446985, -0.688016279146731, 2.487603112109474, -0.6421113152380425, 0.5282808333095591, 0.11571978173453741, 0.01161772884798428, -0.06505424126964929, -0.7022439730830908, 0.4787746086221262, 0.28320163882927263, 1.1984814660395087, 0.5422565987417939, 0.07905613158704161, -0.6160460527237068, 0.8352780457817707, 1.3965662891278787, -1.0154173698273987, 0.3665236109181534, -1.9998498804356306, 0.5272616270013023, -0.6373514036482701, -0.057302291534717546, -0.45016171931880034, -0.5382284690278248, -0.585941452080795, 0.06317829808353946, 0.5860226428614085, 1.1520595220589074, 0.9414974203197717, 0.31332199200723737, -1.2842789015972178, 0.15064400972444722, 1.8245891516803294, -0.39229126599814484, 2.1808813247536443, 0.7639557965616761, -0.4654651583849654, -0.7791550128494558, -0.5520400307901564, 0.1321336514032458, -0.37996526884039383, -0.5434968090565463, 0.5133479011555987, -1.139443467070571, 1.8273677420727594, -0.7686309504023465, 0.5715781779610077, 1.9143600402296497, -0.12692107362037175, -1.1414746586497413, -0.6475455391731304, -0.18376661766901523, -0.11766432942834643, 0.25821861418765163, -0.7279384406457267, -0.6074963898772712, -0.04693316746684137, 0.8625060005872126, -0.4688906725121306, -0.19495021708906124, -0.5553516241749651, 0.35882029041810654, 0.7530832597284386, 1.2903597179061674, -1.339039006737092, 1.5145498119004093, -0.12774666725898964, -0.7264794855497918, 0.7120466330584664, 0.5122549354729409, -1.7473762013799374, -0.3016980273812645, -0.022692210600652636, -1.0874931587468115, -0.1866634190365817, 0.48076222924492534, -0.3117035845583821, 2.5448659414033843, -0.16637982121736353, -0.15018581832202194, -0.4005678833762349, 0.23982364467904838, -0.6973275852601032, -1.0481514253834059, 0.34787158945022356, -0.21891122418477812, -0.9658572274572044, 0.3121882443199205, 0.274871867967295, -0.8309729045347164, -0.7228120139166095, 0.19888373362639694, 0.602523049214208, -0.09923335991610598, -1.7541174656937992, -0.07969351352639871, 1.3439764933024958, -0.21964830522883633, -2.3229552704940923, -0.8471125158135392, 0.5325322879807717, 1.1605173708403018, 0.17585266398756366, 0.2936883454843182, -1.011347658261968, -1.27099186963109, -0.8769344886571131, 2.46314235862086, -0.00946468802736615, -0.5234746063158764, -0.879456969639138, 0.9242448803687398, -0.5677173282894022, -0.6365540099067345, 0.115196649366556, 1.561413164401463, -0.3581174515581611, 1.2172733868864043, -1.096476992609792, -0.15242247111192705, -0.1882493511204748, -0.5189632452020939, 0.00882070411592238, -1.3776441513779774, -1.1507899495734506, -1.7617675558209387, -0.007273481837717047, -2.3047560943882033, -0.9522643920766917, -0.450549337608492, 0.17568940637205935, -0.5356996403546221, -0.43539527992598964, 0.15795802280323112, 0.5008277804712162, 0.586621868442064, -0.14949373596132282, -1.822001014880193, -0.27925398003362323, -0.9275542731423246, -1.9915782017805932, 1.205413366993104, -1.4540054619585057, 0.7733080408735115, -0.2742605258952369, 1.6322628471318001, 2.298951450884939, 2.0005702249688118, -0.8981157061177252, -0.879968499797125, 0.09363468625699944, -1.4877675164179505, -0.19700474125427003, 0.8976167618624386, 0.6773142913474223, -2.040467645842901, 0.8870088800254343, -0.007167169008623143, 0.4491368951646801, -0.0855882003217377, 0.8596113668822912, 0.3575553720628787, -0.3122776664391976, 0.5703605614346008, -0.35433087923786094, -2.9937622389291882, -0.2738067529632717, 0.5828971742790688, 0.3873535838695666, 1.5739740490972283, -1.1804736479411906, -0.6167726015216737, -1.6481529165157198, -0.20781460597684742, -0.058998437847434006, 0.9901391638461062, 1.107879885012313, -0.18931249403971934, -1.4024130011659948, -1.5430516004802464, -0.3548926851497878, 1.3105918935999283, 0.3621788532003052, 0.20441481982724788, -1.1475191821242894, -0.4458722103432636, 0.3328833341879476, -0.31017436319255454, 1.6328876489674544, -0.031197852532485974, 0.42305509692144266, 0.18027323013941002, -1.0764437586707907, 1.1825335736770681, -1.0041140819032792, 0.943713897347464, 0.33281978802793294, -1.655650375102113, -0.8983931244645598, -0.1414267858085381, 1.072716299246201, -0.7268291260157845, 1.8011286769478771, -0.45500281998715725, -0.7169710327020443, -0.41194619234799373, -1.620660660135875, 0.4232471216535127, 1.1778971776137415, -0.6079051701539081, -0.5625383991374551, -0.031117266207269623, 0.9004684026521924, -0.036889521671379835, 0.4154083675358505, -0.3204878390949919, 0.20392959311274905, 0.24352949422292502, 0.6007584857969531, -0.5303137816532699, -1.0785636156916147, 0.9774549076009027, -1.3999852362636616, -0.28019044841224305, -2.0958592196366475, -1.0358881182373338, -1.0189754186306021, -0.9675256239906475, -0.8085784192825675, -2.6721600316434153, 2.128780875202985, -1.062682845858647, 1.713106463776262, 1.5584747885930788, 0.8821981228700851, -0.579124099884551, -0.02228086610192883, -0.03168771987697062, -0.5729316921167762, 0.5943861177487809, 1.126781928956672, 0.0480597039567047, 0.4629748773927444, -1.319157772861893, 0.21141952840194927, -0.13710254547276443, 2.458008511068962, -0.9559217330634342, 2.78801289508895, -0.5328333401274118, 0.6972508545761577, 1.0634585022686445, -0.29503316923405604, -0.23475665002855914, 0.7160293345453564, 0.328637412352377, -1.360291570154382, 0.35729242960953245, -1.3780345763608457, -0.7766271006139522, 0.39305984209161504, -0.3144876761245021, 1.1779735324404088, -0.8476311854917865, 0.8377272747081069, -0.4492899526219272, -0.2608226827929815, -1.127677401989048, 1.2746219154319345, 0.7776903068082117, 0.3633327891792554, 0.8778327795673816, 1.4399681928617398, -0.6089793451491675, 1.6404704108614911, 0.06944645653837042, 0.8768878045395542, 0.7099365622248969, 0.1535346118569123, -0.03104081325356292, 1.9249748800943405, -0.6181495413864173, -1.6918181205395328, -1.119434108594999, 0.5589545249745178, 1.667429471400852, 0.29555755365562225, 0.2605277660156068, 0.9529393472442933, 0.9981435163727638, -0.8821186884684107, 0.13343292147746963, 0.25241743216333873, 1.433930829994442, 0.5300985416895336, 0.08003201238412166, -0.8019937805931171, 0.7305206436346734, 0.22353259485186877, 2.2367309175618657, -1.2839852849583957, 0.9358428133942898, 1.6374356171392512, -0.3222406897757747, 0.3712551407210559, -0.5268943172259004, -0.14473910550405783, -0.4075362183275934, -0.5968004532937743, 0.17643242210991714, -1.0254004383449535, -0.6300114471341465, 0.04509649265518729, -1.537616354517603, 1.2458284027192095, -0.7521413291795942, -1.3426490088707757, 0.5340326789099196, 2.108632995598264, -2.0545382080916528, 0.5957774207311856, 1.251874544975371, -0.7297167123622397, -0.5569591848521593, -0.4726946779579422, -0.3339484318617531, 0.44823544039895047, 0.7235163534729532, 0.5046928993513133, 0.6514373861517129, -0.8286025588965347, 1.0580510444743112, 1.4005093673468438, -0.541949459194914, 2.3021418142716783, -0.3447542522798089, -0.6680568214516515, -0.1862658439122916, -1.3078271870576144, -0.5309959434381003, -1.0746611829212223, -0.12327063926008647, -0.905746180341327, 1.1411294562315115, -1.2316422168144192, 0.40909522665127945, -1.0466783630669803, 1.0107983238904836, -1.7538566981482449, -0.31938469849243756, -0.41163550169249213, -0.47428960938716064, -1.207320500989767, -0.6090646387012569, 0.03302541454094333, -0.9429934731597895, 0.590414757835123, 0.2271267257511748, -0.4783847516358878, 1.1078795497218656, 0.15066118598569359, -0.3507066917983491, 1.2216922405655042, 0.5415834957092488, 0.6845533560368797, -0.08051243685842682, -0.6301575622010426, 1.053809153169526, 1.4876151893629845, -1.116940148590119, -0.18189765175859296, 0.6649452637939208, -1.1570216660494796, 1.697650117558733, -0.8844307860997168, -0.1419048980884342, 0.4722911325574721, -0.5921391369148911, -0.04837259304131134, -0.05722698369796646, 0.5929718825502797, -0.5325624916343195, 0.5059136972779456, 1.8007038723194415, 0.9582550822128338]\n"
          ]
        }
      ]
    },
    {
      "cell_type": "code",
      "source": [
        "#Calculate mean and standard deviation\n",
        "mean = statistics.mean(data)\n",
        "print(mean)"
      ],
      "metadata": {
        "colab": {
          "base_uri": "https://localhost:8080/"
        },
        "id": "rDkQ6Rnc4R3T",
        "outputId": "348e1767-50e9-47ec-a255-48dbe2fac909"
      },
      "execution_count": 77,
      "outputs": [
        {
          "output_type": "stream",
          "name": "stdout",
          "text": [
            "-0.034328994199604966\n"
          ]
        }
      ]
    },
    {
      "cell_type": "code",
      "source": [
        "stddev = statistics.stdev(data)\n",
        "print(stddev)"
      ],
      "metadata": {
        "colab": {
          "base_uri": "https://localhost:8080/"
        },
        "id": "8_H22BX65tMG",
        "outputId": "53f59337-53c6-4334-b0ba-02508728db5b"
      },
      "execution_count": 78,
      "outputs": [
        {
          "output_type": "stream",
          "name": "stdout",
          "text": [
            "0.9861381824724369\n"
          ]
        }
      ]
    },
    {
      "cell_type": "code",
      "source": [
        "print(\"Range of 1st standard deviation\")\n",
        "lf_1 = mean - stddev\n",
        "uf_1 = mean + stddev\n",
        "print(lf_1, uf_1)"
      ],
      "metadata": {
        "colab": {
          "base_uri": "https://localhost:8080/"
        },
        "id": "1tREy_1F-e8-",
        "outputId": "aa6fd532-e8f9-4197-b148-181e72290215"
      },
      "execution_count": 79,
      "outputs": [
        {
          "output_type": "stream",
          "name": "stdout",
          "text": [
            "Range of 1st standard deviation\n",
            "-1.020467176672042 0.9518091882728319\n"
          ]
        }
      ]
    },
    {
      "cell_type": "code",
      "source": [
        "#Percentage of data within 1st standard deviation\n",
        "\n",
        "data_1st_std_dev = []\n",
        "\n",
        "for val in data:\n",
        "  if(val >= lf_1 and val <= uf_1):\n",
        "    data_1st_std_dev.append(val)\n",
        "\n",
        "print(data_1st_std_dev)\n",
        "\n",
        "\n",
        "print(\"Total number of data within 1st standard deviation=\" ,len(data_1st_std_dev))\n",
        "print(\"Total number of sample = \" , len(data))\n",
        "print(\"Percentage of data within 1st standard deviation - \" , len(data_1st_std_dev)/len(data))"
      ],
      "metadata": {
        "colab": {
          "base_uri": "https://localhost:8080/"
        },
        "id": "UbtR6-ih99Ze",
        "outputId": "fb329d5d-3aeb-4e1f-ac53-c7a3d9f9a8c6"
      },
      "execution_count": 80,
      "outputs": [
        {
          "output_type": "stream",
          "name": "stdout",
          "text": [
            "[0.5433161245913811, 0.3022382490228872, -0.9476726752588063, -0.8353760119673574, 0.09460694500965897, 0.11227765784887461, 0.12062386318047094, 0.05331509859515621, -0.9651551561369064, 0.5211067797228868, 0.41002685308963516, 0.12995650609997075, 0.30424893982259904, 0.8894367051531356, -0.27385735684294693, -0.32014125364420515, 0.527363119046247, -0.3788816882147354, 0.23690797745335734, -0.0954321716101939, 0.00337601468641488, -0.7382139366923013, 0.7225941730528809, 0.3084816060938416, 0.2060039164668158, 0.8822042405132176, -0.7962289737588573, -0.9575355510662282, -0.11116731384537883, -0.6835891086349357, -0.9890444189896661, -0.6541264085813367, -0.4368989891872229, 0.4470486535207662, -0.15089603411625832, -0.42901854689275976, 0.08996950848443663, 0.8854493566688356, -0.46321325059489443, 0.4466347666235727, 0.1235324956599045, 0.1093697890221821, -0.7943006982197781, -0.7602451577575641, -0.1131202149253501, -0.20280000942675214, 0.851575887183524, -0.7187200790013291, -0.39589677153160324, 0.2133254834652023, 0.19363009578463009, 0.35715615484703056, -0.6937027630591326, -0.0027207433770760348, 0.4408575643003414, -0.58311893876661, -0.5181010211205013, -0.12481786064402177, -0.8188052157296669, 0.511153182701702, 0.49533337626584456, 0.35839586072112345, 0.16054985675465452, -0.2453641654522404, -0.607045617935151, -0.5422857756566204, -0.041098054973625175, 0.19679423948566588, 0.1001989109245823, 0.24142687491225678, -0.328954135721465, 0.24808281366042392, -0.8078022969659164, 0.25891838810937806, -0.09727687748567396, 0.8172578237637879, -0.4183972585956006, 0.7876875234786457, -0.5531090581754529, 0.35291409046486955, -0.7713770425491792, -0.9485380403723122, -0.2477655369890803, 0.6387795948870926, 0.45870396920720485, -0.9561099016195018, 0.3269467331563592, -0.6311151385359081, 0.20695913905376404, 0.01664080083911069, -1.005994627388293, 0.4372188175767709, -0.054898377526492695, -1.0167851931269722, 0.5688699662626703, 0.21066077963382726, 0.5870708938332518, -0.410151398368764, -0.012529043110866743, -0.37525405016168856, 0.1383672379089253, 0.41974579652243577, 0.848550964095163, -0.6803500576535524, 0.32949218473294295, 0.06245483919212857, -0.5740650576612145, -0.9666982969136584, -0.9039029610671349, -0.2606673242373959, -0.21840122499883555, 0.32323849977600405, -0.34343790871449664, 0.6332449270282308, -0.5373650203650353, -0.3714098856717127, 0.42540597945801994, -0.0487395405705307, -0.7143145747777443, 0.16343982687595315, -0.29097894995076556, -0.10274526271065193, -0.7652293471228714, -0.23236769293002182, 0.350691995616191, 0.4648579732301587, 0.4597220634788178, 0.00458889392923349, -0.40616764077283724, 0.4087780260318468, 0.48431457194377303, -0.41114232269263423, -0.6659125883253508, 0.5321555805432974, 0.9464767031367606, 0.8681929845236538, 0.21133617658535653, -0.8801411789762367, -0.05682291660118501, 0.5248560003172251, -0.9313759717653981, 0.7124239245710492, -0.22533985448851823, 0.5487722669935893, -0.2342800029705533, 0.8697194984861332, 0.016897634807928424, -0.524274226454514, 0.28145276084844983, 0.048291994007357494, 0.24926832300535856, -0.6707791927056148, -0.8188343952350174, -0.5752356986858082, -0.05287357500658601, 0.7901104411953609, 0.09436490192024234, 0.16220764895937262, 0.24924689526366176, -0.3049263049471081, 0.12383107365164267, -0.3028577330146131, 0.1575578667251915, 0.3210909322822925, -0.91353893725725, -0.7367806738584914, 0.874333017888344, 0.10279099434022416, 0.3543478178097927, -0.10153135248937557, 0.13589921476795244, 0.4544526435828897, 0.68956883545006, -0.24310736856606524, 0.4538096280538783, 0.540404904583505, 0.09465627234771848, -0.2632301027290812, -0.18440828340523968, 0.25102923713424374, 0.7975348342305587, -0.37101010935690465, 0.406037467365924, 0.3341784673993391, 0.3832014868989088, -0.7634512278898645, -0.3022464606428484, 0.08119796823029131, -0.4472581157232592, -0.3884416432514188, -0.6862766536790935, -0.18785363910200267, -0.537817146736092, -0.11801692395468633, 0.5609391899667698, 0.3428123917506483, 0.39545477005209817, -0.6889214848751566, 0.4116190977871739, -0.1653251035209528, 0.3590277594884053, -0.6250901355833898, -0.4767976728082307, -0.030979982801667187, 0.24584325341391075, 0.2766781281074401, 0.8948452622428049, -0.22922910582433495, 0.4856130317248966, 0.8224016057825194, -0.0004821424533872327, -0.9682032406910597, 0.36375078624648755, 0.18374519130408132, 0.0330182306071461, -0.5874646767845723, -0.9678368758548489, 0.07773354031962669, 0.7801058907903872, 0.9299950830839245, -0.6330550715628298, 0.15628933996412603, 0.29102690644681034, -0.37024771130669454, -0.5611794939753474, -0.5903827285715549, 0.6509346886844055, -0.5921448367078941, -0.8378343992376146, -0.42670696943312403, -0.6956300204117736, 0.3982598249202935, -0.17348011133533683, -0.5358327395753383, -0.9395272540423413, 0.249937367997115, -0.8166544465376286, 0.48447701442523433, 0.7382599331292955, -0.5179678043563242, -0.33043009610851237, 0.12113836333178057, 0.7225306923816861, -0.7280405247648317, 0.5619095439097733, 0.11848766499214695, 0.0203584733147933, -0.8254749366029871, -0.9064278288575334, 0.3840861653140627, -0.1330441281863442, 0.05751912147712891, -0.9697356564596554, -0.4332673280353513, -0.3499745199654612, 0.7180158861926479, 0.7359977721194609, -0.8109333979910125, 0.20682428991663276, 0.653907161779641, -0.9329820506611848, -0.3469812772230679, 0.07405176310951883, -0.5989725712339968, -0.3909016965959348, 0.507530371411141, 0.5893986526147532, -0.7396863099970075, 0.25447625368861543, -0.33406566166871093, 0.08491209840958498, -0.9832793852967002, 0.8881786655862475, -1.0132780346479267, 0.9500976732054469, -0.797182954043592, 0.4036216615027512, -0.5223294480334473, -0.45349808368433486, 0.7215289095741232, -0.33815174730892866, -0.4835880150844284, 0.592989527691496, -0.3717794423795317, -0.22815690998659977, -0.7830206999804319, 0.6418557517820824, -0.11512623759125606, -0.1729381212079333, -0.7348534458148182, -0.07495559723889439, -0.9282936324724882, -0.3798820244113334, -0.7987523475475807, 0.4973032087074518, -0.5947628212289211, 0.1966942631804847, -0.24557101637977408, 0.45491147356262585, 0.3940982910273791, -0.23745298181129576, 0.4652338522754867, -0.25065623661623576, 0.17612525093148013, -0.4622106057424392, 0.4172493460412347, -0.6221575964435373, -0.32603637345163083, 0.0785327151697817, 0.3330830999628589, 0.7633647283410677, -0.9033521238035389, -0.5772789557634241, 0.5698433838192676, 0.20934308757076328, 0.11739695278806979, 0.9471167706075119, 0.21322206162012827, 0.01006087142178792, 0.8595007112343066, 0.903634348119723, 0.462642479629353, 0.31489465786517334, -0.6771086865758553, 0.3940583325073773, 0.39694760726388467, -0.6777792304443516, 0.0824601823713287, 0.09934028558277148, 0.8228026183984066, -0.9942463534848416, 0.13703284552295714, 0.3432725412934606, -0.583649105357359, -0.2134679383735358, 0.7146464242858314, -0.2590309387413645, -0.03870914043803826, 0.05515633977445182, 0.6640964908620827, 0.292268390354099, 0.021966383103440134, -0.4741408243616679, -0.37615084030537455, 0.7639866610859939, 0.4881558519330312, 0.07317576618993228, 0.038758330479618706, -0.20263897492127392, 0.07321870127426552, 0.79077687312274, 0.623122309337069, 0.3316725497398203, 0.08446757605146217, 0.1093994735557015, -0.6505676209560605, 0.03553805017939171, 0.41781487978739895, -0.9666111382343618, 0.3787882636163446, 0.28404648618263817, 0.15422254253673845, -0.006471691947565358, 0.5217253346095386, -0.8078895433028134, 0.6574866925506001, 0.36520244185404416, -0.6921154902171882, 0.5166155391384818, -0.241904973330464, -0.921773540131465, 0.2848712149673134, 0.7849468682266898, 0.5487957849009802, 0.39187710106511864, -0.022402506559368974, 0.8124940888108746, -0.4786364922823677, 0.27048193848349, 0.5086307895047744, 0.3913737928203619, -0.19218064439698845, -0.19236540385188874, 0.6134468553790398, 0.5335285094284667, 0.0871124966731962, 0.10879463504025189, -0.8824818119078142, 0.7125295476512221, 0.8956835325430086, -0.22794984024113554, -0.15693755924374342, 0.4151231152308775, -0.10155244024388096, 0.6316617184221275, -0.63076667317779, -0.31363236025573565, -0.6687442811147072, 0.6574659720271293, -0.8652541924688611, -0.7218316472487109, -0.13670694987800025, -0.5794707683375774, 0.27830588147871993, -0.9693394030258651, 0.03263585684156715, -0.13289790594835008, 0.2718544807923038, 0.11989493919003584, -0.27243709060520355, 0.09312247128138341, 0.31939913197173153, 0.4842289667693241, -0.8942506834698126, 0.20319824463303732, -0.8924185398794615, -0.16390595556446985, -0.688016279146731, -0.6421113152380425, 0.5282808333095591, 0.11571978173453741, 0.01161772884798428, -0.06505424126964929, -0.7022439730830908, 0.4787746086221262, 0.28320163882927263, 0.5422565987417939, 0.07905613158704161, -0.6160460527237068, 0.8352780457817707, -1.0154173698273987, 0.3665236109181534, 0.5272616270013023, -0.6373514036482701, -0.057302291534717546, -0.45016171931880034, -0.5382284690278248, -0.585941452080795, 0.06317829808353946, 0.5860226428614085, 0.9414974203197717, 0.31332199200723737, 0.15064400972444722, -0.39229126599814484, 0.7639557965616761, -0.4654651583849654, -0.7791550128494558, -0.5520400307901564, 0.1321336514032458, -0.37996526884039383, -0.5434968090565463, 0.5133479011555987, -0.7686309504023465, 0.5715781779610077, -0.12692107362037175, -0.6475455391731304, -0.18376661766901523, -0.11766432942834643, 0.25821861418765163, -0.7279384406457267, -0.6074963898772712, -0.04693316746684137, 0.8625060005872126, -0.4688906725121306, -0.19495021708906124, -0.5553516241749651, 0.35882029041810654, 0.7530832597284386, -0.12774666725898964, -0.7264794855497918, 0.7120466330584664, 0.5122549354729409, -0.3016980273812645, -0.022692210600652636, -0.1866634190365817, 0.48076222924492534, -0.3117035845583821, -0.16637982121736353, -0.15018581832202194, -0.4005678833762349, 0.23982364467904838, -0.6973275852601032, 0.34787158945022356, -0.21891122418477812, -0.9658572274572044, 0.3121882443199205, 0.274871867967295, -0.8309729045347164, -0.7228120139166095, 0.19888373362639694, 0.602523049214208, -0.09923335991610598, -0.07969351352639871, -0.21964830522883633, -0.8471125158135392, 0.5325322879807717, 0.17585266398756366, 0.2936883454843182, -1.011347658261968, -0.8769344886571131, -0.00946468802736615, -0.5234746063158764, -0.879456969639138, 0.9242448803687398, -0.5677173282894022, -0.6365540099067345, 0.115196649366556, -0.3581174515581611, -0.15242247111192705, -0.1882493511204748, -0.5189632452020939, 0.00882070411592238, -0.007273481837717047, -0.9522643920766917, -0.450549337608492, 0.17568940637205935, -0.5356996403546221, -0.43539527992598964, 0.15795802280323112, 0.5008277804712162, 0.586621868442064, -0.14949373596132282, -0.27925398003362323, -0.9275542731423246, 0.7733080408735115, -0.2742605258952369, -0.8981157061177252, -0.879968499797125, 0.09363468625699944, -0.19700474125427003, 0.8976167618624386, 0.6773142913474223, 0.8870088800254343, -0.007167169008623143, 0.4491368951646801, -0.0855882003217377, 0.8596113668822912, 0.3575553720628787, -0.3122776664391976, 0.5703605614346008, -0.35433087923786094, -0.2738067529632717, 0.5828971742790688, 0.3873535838695666, -0.6167726015216737, -0.20781460597684742, -0.058998437847434006, -0.18931249403971934, -0.3548926851497878, 0.3621788532003052, 0.20441481982724788, -0.4458722103432636, 0.3328833341879476, -0.31017436319255454, -0.031197852532485974, 0.42305509692144266, 0.18027323013941002, -1.0041140819032792, 0.943713897347464, 0.33281978802793294, -0.8983931244645598, -0.1414267858085381, -0.7268291260157845, -0.45500281998715725, -0.7169710327020443, -0.41194619234799373, 0.4232471216535127, -0.6079051701539081, -0.5625383991374551, -0.031117266207269623, 0.9004684026521924, -0.036889521671379835, 0.4154083675358505, -0.3204878390949919, 0.20392959311274905, 0.24352949422292502, 0.6007584857969531, -0.5303137816532699, -0.28019044841224305, -1.0189754186306021, -0.9675256239906475, -0.8085784192825675, 0.8821981228700851, -0.579124099884551, -0.02228086610192883, -0.03168771987697062, -0.5729316921167762, 0.5943861177487809, 0.0480597039567047, 0.4629748773927444, 0.21141952840194927, -0.13710254547276443, -0.9559217330634342, -0.5328333401274118, 0.6972508545761577, -0.29503316923405604, -0.23475665002855914, 0.7160293345453564, 0.328637412352377, 0.35729242960953245, -0.7766271006139522, 0.39305984209161504, -0.3144876761245021, -0.8476311854917865, 0.8377272747081069, -0.4492899526219272, -0.2608226827929815, 0.7776903068082117, 0.3633327891792554, 0.8778327795673816, -0.6089793451491675, 0.06944645653837042, 0.8768878045395542, 0.7099365622248969, 0.1535346118569123, -0.03104081325356292, -0.6181495413864173, 0.5589545249745178, 0.29555755365562225, 0.2605277660156068, -0.8821186884684107, 0.13343292147746963, 0.25241743216333873, 0.5300985416895336, 0.08003201238412166, -0.8019937805931171, 0.7305206436346734, 0.22353259485186877, 0.9358428133942898, -0.3222406897757747, 0.3712551407210559, -0.5268943172259004, -0.14473910550405783, -0.4075362183275934, -0.5968004532937743, 0.17643242210991714, -0.6300114471341465, 0.04509649265518729, -0.7521413291795942, 0.5340326789099196, 0.5957774207311856, -0.7297167123622397, -0.5569591848521593, -0.4726946779579422, -0.3339484318617531, 0.44823544039895047, 0.7235163534729532, 0.5046928993513133, 0.6514373861517129, -0.8286025588965347, -0.541949459194914, -0.3447542522798089, -0.6680568214516515, -0.1862658439122916, -0.5309959434381003, -0.12327063926008647, -0.905746180341327, 0.40909522665127945, -0.31938469849243756, -0.41163550169249213, -0.47428960938716064, -0.6090646387012569, 0.03302541454094333, -0.9429934731597895, 0.590414757835123, 0.2271267257511748, -0.4783847516358878, 0.15066118598569359, -0.3507066917983491, 0.5415834957092488, 0.6845533560368797, -0.08051243685842682, -0.6301575622010426, -0.18189765175859296, 0.6649452637939208, -0.8844307860997168, -0.1419048980884342, 0.4722911325574721, -0.5921391369148911, -0.04837259304131134, -0.05722698369796646, 0.5929718825502797, -0.5325624916343195, 0.5059136972779456]\n",
            "Total number of data within 1st standard deviation= 684\n",
            "Total number of sample =  1000\n",
            "Percentage of data within 1st standard deviation -  0.684\n"
          ]
        }
      ]
    },
    {
      "cell_type": "code",
      "source": [
        "#percentage of data withing 2nd standard deviation\n",
        "print(\"Range of 2nd standard deviation\")\n",
        "lf_2 = mean - 2 * stddev\n",
        "uf_2 = mean + 2 * stddev\n",
        "print(lf_2, uf_2)\n",
        "\n",
        "data_2nd_std_dev = []\n",
        "\n",
        "for val in data:\n",
        "  if(val >= lf_2 and val <= uf_2):\n",
        "    data_2nd_std_dev.append(val)\n",
        "\n",
        "print(data_2nd_std_dev)\n",
        "\n",
        "\n",
        "print(\"Total number of data within 1st standard deviation=\" ,len(data_2nd_std_dev))\n",
        "print(\"Total number of sample = \" , len(data))\n",
        "print(\"Percentage of data within 1st standard deviation - \" , len(data_2nd_std_dev)/len(data))"
      ],
      "metadata": {
        "colab": {
          "base_uri": "https://localhost:8080/"
        },
        "id": "trI6C8Mf-ORr",
        "outputId": "e9799953-3d07-4b37-a970-2a88d18ac2a4"
      },
      "execution_count": 81,
      "outputs": [
        {
          "output_type": "stream",
          "name": "stdout",
          "text": [
            "Range of 2nd standard deviation\n",
            "-2.0066053591444786 1.9379473707452688\n",
            "[0.5433161245913811, 0.3022382490228872, -0.9476726752588063, -0.8353760119673574, -1.4464342029439403, 0.09460694500965897, 0.11227765784887461, 0.12062386318047094, 0.05331509859515621, -1.1349848367874276, -0.9651551561369064, 0.5211067797228868, 0.41002685308963516, 0.12995650609997075, 0.30424893982259904, -1.977546362958323, 0.8894367051531356, -0.27385735684294693, -1.5089453450659038, -0.32014125364420515, 0.527363119046247, -0.3788816882147354, -1.5780929691552776, 0.23690797745335734, -0.0954321716101939, 0.00337601468641488, -1.2349869263445712, 1.1662335107556199, 1.928964907524601, -0.7382139366923013, 0.7225941730528809, 0.3084816060938416, 0.2060039164668158, 0.8822042405132176, -0.7962289737588573, -0.9575355510662282, -0.11116731384537883, -0.6835891086349357, -0.9890444189896661, -0.6541264085813367, -0.4368989891872229, 0.4470486535207662, 1.5141685456161806, -0.15089603411625832, -0.42901854689275976, 0.08996950848443663, 0.8854493566688356, -0.46321325059489443, 0.4466347666235727, 1.1420020992819515, 1.1586298737201797, 0.1235324956599045, 1.5616070413280465, 0.1093697890221821, 1.4136519972173345, 0.9984300870392965, 1.6046986912021344, -0.7943006982197781, -0.7602451577575641, -0.1131202149253501, -0.20280000942675214, 0.851575887183524, -0.7187200790013291, -0.39589677153160324, 0.2133254834652023, 1.4420332295777516, 0.19363009578463009, 0.35715615484703056, -1.0641785007306335, -0.6937027630591326, -0.0027207433770760348, 0.4408575643003414, -0.58311893876661, -1.1838763394969083, -0.5181010211205013, 1.1910246803144136, 1.536367292790937, -0.12481786064402177, -0.8188052157296669, 0.511153182701702, 0.49533337626584456, 0.35839586072112345, 0.16054985675465452, -0.2453641654522404, -1.288298397566892, -0.607045617935151, -0.5422857756566204, -0.041098054973625175, 0.19679423948566588, 1.420443487519585, 0.1001989109245823, 0.24142687491225678, -1.0889514869411419, -1.1866767893215093, -0.328954135721465, 0.24808281366042392, -0.8078022969659164, 0.25891838810937806, -0.09727687748567396, 0.8172578237637879, -0.4183972585956006, 0.7876875234786457, -0.5531090581754529, 0.35291409046486955, -0.7713770425491792, -0.9485380403723122, 1.8720408231442442, -0.2477655369890803, 0.6387795948870926, 1.0896118458130786, 0.45870396920720485, -0.9561099016195018, 0.3269467331563592, -0.6311151385359081, 0.20695913905376404, 1.0561605866807056, 0.01664080083911069, -1.005994627388293, 0.4372188175767709, -1.3949694653625395, -1.5403653158209454, -0.054898377526492695, -1.0167851931269722, 0.5688699662626703, 0.21066077963382726, 0.5870708938332518, -0.410151398368764, -0.012529043110866743, -0.37525405016168856, 0.1383672379089253, 0.41974579652243577, 0.848550964095163, -0.6803500576535524, 0.32949218473294295, 0.9741260826846109, 1.6346538485932005, 0.06245483919212857, -0.5740650576612145, -1.2292628118481295, -1.7398035010598154, -0.9666982969136584, -0.9039029610671349, 1.0683689052329284, -0.2606673242373959, -0.21840122499883555, 0.32323849977600405, -0.34343790871449664, 0.6332449270282308, 1.2135380063052177, -0.5373650203650353, -1.5723170412995264, -0.3714098856717127, 0.42540597945801994, -0.0487395405705307, -0.7143145747777443, 0.16343982687595315, -0.29097894995076556, -0.10274526271065193, 0.9607035511403931, -0.7652293471228714, -0.23236769293002182, 1.0073778257769708, 0.350691995616191, 0.4648579732301587, 0.4597220634788178, 0.00458889392923349, -0.40616764077283724, 0.4087780260318468, 0.48431457194377303, -0.41114232269263423, -0.6659125883253508, 0.5321555805432974, 0.9464767031367606, 1.38778925683578, 0.8681929845236538, 0.21133617658535653, -0.8801411789762367, -0.05682291660118501, 0.5248560003172251, -0.9313759717653981, 0.7124239245710492, -0.22533985448851823, 0.5487722669935893, -1.6355422184993778, -0.2342800029705533, 0.8697194984861332, 0.016897634807928424, -0.524274226454514, 0.28145276084844983, 0.048291994007357494, 0.24926832300535856, -0.6707791927056148, -0.8188343952350174, -1.995126093897146, 1.2740310448124779, 1.1743327019725676, -0.5752356986858082, -0.05287357500658601, -1.2360961515512658, 0.7901104411953609, 0.09436490192024234, 1.0171014257616304, 0.16220764895937262, -1.3442662125455629, 0.24924689526366176, -1.0253930611116104, -0.3049263049471081, 0.12383107365164267, -1.7414069403762364, 1.4826218215610332, -0.3028577330146131, -1.9011981366304378, 0.1575578667251915, 0.3210909322822925, -0.91353893725725, -0.7367806738584914, 0.874333017888344, 0.10279099434022416, 0.3543478178097927, -0.10153135248937557, 0.13589921476795244, 0.4544526435828897, 0.9595671253003878, 0.68956883545006, -0.24310736856606524, -1.7850693525244634, 0.4538096280538783, 0.540404904583505, -1.3283796226124382, 1.1856091797660633, -1.6752063239344062, 0.09465627234771848, -0.2632301027290812, -0.18440828340523968, 0.25102923713424374, 0.7975348342305587, 1.080224568033179, -0.37101010935690465, 0.406037467365924, 1.5136383382003729, 0.3341784673993391, -1.6788709283405654, -1.7091054789214442, 1.1435265629376792, 0.3832014868989088, -1.13961824203515, -0.7634512278898645, -0.3022464606428484, 0.08119796823029131, -1.022920342711183, -0.4472581157232592, -0.3884416432514188, -0.6862766536790935, 1.4381649105463508, -0.18785363910200267, -0.537817146736092, -0.11801692395468633, 1.7995036506650355, 0.5609391899667698, 0.3428123917506483, -1.1343892310226693, 0.39545477005209817, -0.6889214848751566, 0.4116190977871739, -0.1653251035209528, 0.3590277594884053, -0.6250901355833898, -0.4767976728082307, -0.030979982801667187, 0.24584325341391075, 0.2766781281074401, 0.8948452622428049, -1.5278198929416413, -1.5003138650628294, -0.22922910582433495, 0.4856130317248966, 0.8224016057825194, -0.0004821424533872327, -0.9682032406910597, 1.8489805499139675, 0.36375078624648755, -1.4770718063318669, 0.18374519130408132, 0.0330182306071461, -0.5874646767845723, -0.9678368758548489, 0.07773354031962669, 1.0180890075932125, 0.7801058907903872, 1.597217916398591, 0.9299950830839245, -0.6330550715628298, 0.15628933996412603, -1.4764589723549488, 0.29102690644681034, -1.4430713995287783, -0.37024771130669454, -0.5611794939753474, 1.4320754354120093, 1.8010800979634316, -0.5903827285715549, 1.2871290610130968, 0.6509346886844055, -0.5921448367078941, 1.096152169319381, 1.2224239465057696, -1.5562810976230979, -0.8378343992376146, -0.42670696943312403, -0.6956300204117736, 0.3982598249202935, -0.17348011133533683, -0.5358327395753383, -0.9395272540423413, 0.249937367997115, 0.9921661466790274, 1.2233100609361494, -0.8166544465376286, 0.48447701442523433, 1.685131356099214, 1.1350983179012053, 1.133069106634688, 0.7382599331292955, -0.5179678043563242, -0.33043009610851237, -1.8829147337421595, 1.5996390642738134, 0.12113836333178057, 0.7225306923816861, 1.1371318667945807, -1.2227256721595559, 1.0651397485191096, -0.7280405247648317, -1.429707052127561, 0.5619095439097733, 0.11848766499214695, 0.0203584733147933, -0.8254749366029871, -0.9064278288575334, 0.3840861653140627, -0.1330441281863442, 1.11034785183075, 0.05751912147712891, -0.9697356564596554, 1.494896527702539, -1.0663720038254907, -0.4332673280353513, 1.7631313019279036, -0.3499745199654612, 0.7180158861926479, 0.7359977721194609, -0.8109333979910125, 1.814919864609128, 0.20682428991663276, 1.2289423246324545, 0.653907161779641, -0.9329820506611848, -0.3469812772230679, 1.1627265259934814, -1.04188454613343, 0.07405176310951883, -0.5989725712339968, -0.3909016965959348, -1.6290626779953785, 0.507530371411141, 0.5893986526147532, -0.7396863099970075, 0.25447625368861543, -0.33406566166871093, -1.1037663454907742, 1.249927890186485, 0.08491209840958498, 1.2374321798779957, -0.9832793852967002, -1.0378194631344722, 0.8881786655862475, -1.0132780346479267, 0.9500976732054469, 1.2558007790453074, -0.797182954043592, 0.4036216615027512, -1.0855973129262637, -0.5223294480334473, -0.45349808368433486, 0.7215289095741232, -0.33815174730892866, -0.4835880150844284, 0.592989527691496, -0.3717794423795317, -0.22815690998659977, -0.7830206999804319, 0.6418557517820824, 1.1933379712284578, -0.11512623759125606, -0.1729381212079333, -0.7348534458148182, -0.07495559723889439, -0.9282936324724882, -0.3798820244113334, -1.0383231037609602, -0.7987523475475807, 0.4973032087074518, -0.5947628212289211, 0.1966942631804847, 1.2973558252644177, -1.1311788217681218, 1.4394054684523925, -0.24557101637977408, 1.4036149171752386, 0.45491147356262585, 0.3940982910273791, 1.2101748481482304, -0.23745298181129576, 0.4652338522754867, -0.25065623661623576, 1.176811880703545, 1.5731332263858107, 0.17612525093148013, -1.3101790490136043, -0.4622106057424392, 0.4172493460412347, -1.0686556298229717, -0.6221575964435373, -0.32603637345163083, 0.0785327151697817, -1.4409117441365427, -1.800006521560868, -1.1606068969714363, -1.4106837562966859, 1.9189354472432554, 0.3330830999628589, 0.7633647283410677, -1.125448394345199, -0.9033521238035389, -0.5772789557634241, -1.5127622223327506, 0.5698433838192676, -1.5119297040963915, 1.443917097800173, 0.20934308757076328, 0.11739695278806979, 0.9471167706075119, 0.21322206162012827, 1.3684998370770092, 0.01006087142178792, 0.8595007112343066, 0.903634348119723, -1.1914186573162795, -1.2776093494250536, 0.462642479629353, -1.5386286942907152, 0.31489465786517334, -0.6771086865758553, -1.3276627387235627, -1.0502791531681337, 0.3940583325073773, 0.39694760726388467, -0.6777792304443516, 0.0824601823713287, 0.09934028558277148, 0.8228026183984066, -0.9942463534848416, 0.13703284552295714, -1.4430051561250328, -1.1524905961488487, 0.3432725412934606, -0.583649105357359, -0.2134679383735358, 0.7146464242858314, -0.2590309387413645, -0.03870914043803826, -1.307056794995969, 1.4457919858341028, 0.05515633977445182, 0.6640964908620827, 1.2760168437432124, -1.0981023440323878, 0.292268390354099, -1.11991397767497, 0.021966383103440134, -0.4741408243616679, -0.37615084030537455, 0.7639866610859939, 0.4881558519330312, 0.07317576618993228, 0.038758330479618706, -0.20263897492127392, 0.07321870127426552, 0.79077687312274, 0.623122309337069, 0.3316725497398203, 0.08446757605146217, 0.9926761147449976, -1.1409217026555347, 0.1093994735557015, -0.6505676209560605, 0.03553805017939171, 0.41781487978739895, 1.285954384021236, 1.1336007144448608, 1.006099856211597, -1.8721621047192543, -0.9666111382343618, 0.3787882636163446, 0.28404648618263817, 0.15422254253673845, -0.006471691947565358, 0.9878246264349636, -1.7221363594758778, -1.4874122356571253, 0.5217253346095386, -0.8078895433028134, 0.6574866925506001, 0.36520244185404416, -0.6921154902171882, 1.5844549969712776, 1.5639950310955677, 0.5166155391384818, -0.241904973330464, -0.921773540131465, 0.2848712149673134, 0.7849468682266898, 0.5487957849009802, 0.39187710106511864, -0.022402506559368974, 0.8124940888108746, -0.4786364922823677, 0.27048193848349, 0.5086307895047744, 0.3913737928203619, -1.081210744072932, -0.19218064439698845, -0.19236540385188874, 0.6134468553790398, 1.2439601406750507, 0.5335285094284667, 0.0871124966731962, 1.5958342560875887, 1.5915480352345426, 0.10879463504025189, -0.8824818119078142, 0.7125295476512221, -1.4990725466745092, 0.8956835325430086, -0.22794984024113554, -0.15693755924374342, 0.9946673016055994, -1.1812918982982328, 0.4151231152308775, -0.10155244024388096, 0.6316617184221275, -0.63076667317779, -0.31363236025573565, -0.6687442811147072, 0.6574659720271293, -1.256009560620682, 1.0479122992925352, -0.8652541924688611, -0.7218316472487109, -0.13670694987800025, -0.5794707683375774, 1.5063021240494223, 0.27830588147871993, -0.9693394030258651, 0.03263585684156715, -0.13289790594835008, 0.2718544807923038, -1.3630856546451326, -1.1462519672248717, 0.11989493919003584, -0.27243709060520355, 0.09312247128138341, -1.9690379493553125, -1.3730841402936074, 0.31939913197173153, 0.4842289667693241, -0.8942506834698126, 0.20319824463303732, -0.8924185398794615, -0.16390595556446985, -0.688016279146731, -0.6421113152380425, 0.5282808333095591, 0.11571978173453741, 0.01161772884798428, -0.06505424126964929, -0.7022439730830908, 0.4787746086221262, 0.28320163882927263, 1.1984814660395087, 0.5422565987417939, 0.07905613158704161, -0.6160460527237068, 0.8352780457817707, 1.3965662891278787, -1.0154173698273987, 0.3665236109181534, -1.9998498804356306, 0.5272616270013023, -0.6373514036482701, -0.057302291534717546, -0.45016171931880034, -0.5382284690278248, -0.585941452080795, 0.06317829808353946, 0.5860226428614085, 1.1520595220589074, 0.9414974203197717, 0.31332199200723737, -1.2842789015972178, 0.15064400972444722, 1.8245891516803294, -0.39229126599814484, 0.7639557965616761, -0.4654651583849654, -0.7791550128494558, -0.5520400307901564, 0.1321336514032458, -0.37996526884039383, -0.5434968090565463, 0.5133479011555987, -1.139443467070571, 1.8273677420727594, -0.7686309504023465, 0.5715781779610077, 1.9143600402296497, -0.12692107362037175, -1.1414746586497413, -0.6475455391731304, -0.18376661766901523, -0.11766432942834643, 0.25821861418765163, -0.7279384406457267, -0.6074963898772712, -0.04693316746684137, 0.8625060005872126, -0.4688906725121306, -0.19495021708906124, -0.5553516241749651, 0.35882029041810654, 0.7530832597284386, 1.2903597179061674, -1.339039006737092, 1.5145498119004093, -0.12774666725898964, -0.7264794855497918, 0.7120466330584664, 0.5122549354729409, -1.7473762013799374, -0.3016980273812645, -0.022692210600652636, -1.0874931587468115, -0.1866634190365817, 0.48076222924492534, -0.3117035845583821, -0.16637982121736353, -0.15018581832202194, -0.4005678833762349, 0.23982364467904838, -0.6973275852601032, -1.0481514253834059, 0.34787158945022356, -0.21891122418477812, -0.9658572274572044, 0.3121882443199205, 0.274871867967295, -0.8309729045347164, -0.7228120139166095, 0.19888373362639694, 0.602523049214208, -0.09923335991610598, -1.7541174656937992, -0.07969351352639871, 1.3439764933024958, -0.21964830522883633, -0.8471125158135392, 0.5325322879807717, 1.1605173708403018, 0.17585266398756366, 0.2936883454843182, -1.011347658261968, -1.27099186963109, -0.8769344886571131, -0.00946468802736615, -0.5234746063158764, -0.879456969639138, 0.9242448803687398, -0.5677173282894022, -0.6365540099067345, 0.115196649366556, 1.561413164401463, -0.3581174515581611, 1.2172733868864043, -1.096476992609792, -0.15242247111192705, -0.1882493511204748, -0.5189632452020939, 0.00882070411592238, -1.3776441513779774, -1.1507899495734506, -1.7617675558209387, -0.007273481837717047, -0.9522643920766917, -0.450549337608492, 0.17568940637205935, -0.5356996403546221, -0.43539527992598964, 0.15795802280323112, 0.5008277804712162, 0.586621868442064, -0.14949373596132282, -1.822001014880193, -0.27925398003362323, -0.9275542731423246, -1.9915782017805932, 1.205413366993104, -1.4540054619585057, 0.7733080408735115, -0.2742605258952369, 1.6322628471318001, -0.8981157061177252, -0.879968499797125, 0.09363468625699944, -1.4877675164179505, -0.19700474125427003, 0.8976167618624386, 0.6773142913474223, 0.8870088800254343, -0.007167169008623143, 0.4491368951646801, -0.0855882003217377, 0.8596113668822912, 0.3575553720628787, -0.3122776664391976, 0.5703605614346008, -0.35433087923786094, -0.2738067529632717, 0.5828971742790688, 0.3873535838695666, 1.5739740490972283, -1.1804736479411906, -0.6167726015216737, -1.6481529165157198, -0.20781460597684742, -0.058998437847434006, 0.9901391638461062, 1.107879885012313, -0.18931249403971934, -1.4024130011659948, -1.5430516004802464, -0.3548926851497878, 1.3105918935999283, 0.3621788532003052, 0.20441481982724788, -1.1475191821242894, -0.4458722103432636, 0.3328833341879476, -0.31017436319255454, 1.6328876489674544, -0.031197852532485974, 0.42305509692144266, 0.18027323013941002, -1.0764437586707907, 1.1825335736770681, -1.0041140819032792, 0.943713897347464, 0.33281978802793294, -1.655650375102113, -0.8983931244645598, -0.1414267858085381, 1.072716299246201, -0.7268291260157845, 1.8011286769478771, -0.45500281998715725, -0.7169710327020443, -0.41194619234799373, -1.620660660135875, 0.4232471216535127, 1.1778971776137415, -0.6079051701539081, -0.5625383991374551, -0.031117266207269623, 0.9004684026521924, -0.036889521671379835, 0.4154083675358505, -0.3204878390949919, 0.20392959311274905, 0.24352949422292502, 0.6007584857969531, -0.5303137816532699, -1.0785636156916147, 0.9774549076009027, -1.3999852362636616, -0.28019044841224305, -1.0358881182373338, -1.0189754186306021, -0.9675256239906475, -0.8085784192825675, -1.062682845858647, 1.713106463776262, 1.5584747885930788, 0.8821981228700851, -0.579124099884551, -0.02228086610192883, -0.03168771987697062, -0.5729316921167762, 0.5943861177487809, 1.126781928956672, 0.0480597039567047, 0.4629748773927444, -1.319157772861893, 0.21141952840194927, -0.13710254547276443, -0.9559217330634342, -0.5328333401274118, 0.6972508545761577, 1.0634585022686445, -0.29503316923405604, -0.23475665002855914, 0.7160293345453564, 0.328637412352377, -1.360291570154382, 0.35729242960953245, -1.3780345763608457, -0.7766271006139522, 0.39305984209161504, -0.3144876761245021, 1.1779735324404088, -0.8476311854917865, 0.8377272747081069, -0.4492899526219272, -0.2608226827929815, -1.127677401989048, 1.2746219154319345, 0.7776903068082117, 0.3633327891792554, 0.8778327795673816, 1.4399681928617398, -0.6089793451491675, 1.6404704108614911, 0.06944645653837042, 0.8768878045395542, 0.7099365622248969, 0.1535346118569123, -0.03104081325356292, 1.9249748800943405, -0.6181495413864173, -1.6918181205395328, -1.119434108594999, 0.5589545249745178, 1.667429471400852, 0.29555755365562225, 0.2605277660156068, 0.9529393472442933, 0.9981435163727638, -0.8821186884684107, 0.13343292147746963, 0.25241743216333873, 1.433930829994442, 0.5300985416895336, 0.08003201238412166, -0.8019937805931171, 0.7305206436346734, 0.22353259485186877, -1.2839852849583957, 0.9358428133942898, 1.6374356171392512, -0.3222406897757747, 0.3712551407210559, -0.5268943172259004, -0.14473910550405783, -0.4075362183275934, -0.5968004532937743, 0.17643242210991714, -1.0254004383449535, -0.6300114471341465, 0.04509649265518729, -1.537616354517603, 1.2458284027192095, -0.7521413291795942, -1.3426490088707757, 0.5340326789099196, 0.5957774207311856, 1.251874544975371, -0.7297167123622397, -0.5569591848521593, -0.4726946779579422, -0.3339484318617531, 0.44823544039895047, 0.7235163534729532, 0.5046928993513133, 0.6514373861517129, -0.8286025588965347, 1.0580510444743112, 1.4005093673468438, -0.541949459194914, -0.3447542522798089, -0.6680568214516515, -0.1862658439122916, -1.3078271870576144, -0.5309959434381003, -1.0746611829212223, -0.12327063926008647, -0.905746180341327, 1.1411294562315115, -1.2316422168144192, 0.40909522665127945, -1.0466783630669803, 1.0107983238904836, -1.7538566981482449, -0.31938469849243756, -0.41163550169249213, -0.47428960938716064, -1.207320500989767, -0.6090646387012569, 0.03302541454094333, -0.9429934731597895, 0.590414757835123, 0.2271267257511748, -0.4783847516358878, 1.1078795497218656, 0.15066118598569359, -0.3507066917983491, 1.2216922405655042, 0.5415834957092488, 0.6845533560368797, -0.08051243685842682, -0.6301575622010426, 1.053809153169526, 1.4876151893629845, -1.116940148590119, -0.18189765175859296, 0.6649452637939208, -1.1570216660494796, 1.697650117558733, -0.8844307860997168, -0.1419048980884342, 0.4722911325574721, -0.5921391369148911, -0.04837259304131134, -0.05722698369796646, 0.5929718825502797, -0.5325624916343195, 0.5059136972779456, 1.8007038723194415, 0.9582550822128338]\n",
            "Total number of data within 1st standard deviation= 946\n",
            "Total number of sample =  1000\n",
            "Percentage of data within 1st standard deviation -  0.946\n"
          ]
        }
      ]
    },
    {
      "cell_type": "code",
      "source": [
        "#percentage of data withing 2nd standard deviation\n",
        "print(\"Range of 3rd standard deviation\")\n",
        "lf_3 = mean - 3 * stddev\n",
        "uf_3 = mean + 3 * stddev\n",
        "print(lf_3, uf_3)\n",
        "\n",
        "data_3rd_std_dev = []\n",
        "\n",
        "for val in data:\n",
        "  if(val >= lf_3 and val <= uf_3):\n",
        "    data_3rd_std_dev.append(val)\n",
        "\n",
        "print(data_3rd_std_dev)\n",
        "\n",
        "\n",
        "print(\"Total number of data within 1st standard deviation=\" ,len(data_3rd_std_dev))\n",
        "print(\"Total number of sample = \" , len(data))\n",
        "print(\"Percentage of data within 1st standard deviation - \" , len(data_3rd_std_dev)/len(data))"
      ],
      "metadata": {
        "colab": {
          "base_uri": "https://localhost:8080/"
        },
        "id": "8nzB-96bDxy0",
        "outputId": "9a930ac9-5078-4d5c-faa8-49b06cf4c7e3"
      },
      "execution_count": 82,
      "outputs": [
        {
          "output_type": "stream",
          "name": "stdout",
          "text": [
            "Range of 3rd standard deviation\n",
            "-2.9927435416169157 2.924085553217706\n",
            "[0.5433161245913811, 0.3022382490228872, -0.9476726752588063, -0.8353760119673574, -1.4464342029439403, 0.09460694500965897, 0.11227765784887461, 0.12062386318047094, 0.05331509859515621, -1.1349848367874276, -0.9651551561369064, 0.5211067797228868, -2.2206272680590207, 0.41002685308963516, 0.12995650609997075, 0.30424893982259904, -1.977546362958323, 0.8894367051531356, -0.27385735684294693, -1.5089453450659038, -0.32014125364420515, 0.527363119046247, -0.3788816882147354, -1.5780929691552776, 0.23690797745335734, -0.0954321716101939, 2.2429382808178633, 0.00337601468641488, -1.2349869263445712, 1.1662335107556199, 1.928964907524601, -0.7382139366923013, 0.7225941730528809, 0.3084816060938416, 0.2060039164668158, 0.8822042405132176, -0.7962289737588573, -0.9575355510662282, -0.11116731384537883, -2.374948501923352, -0.6835891086349357, -0.9890444189896661, -0.6541264085813367, -0.4368989891872229, 0.4470486535207662, 1.5141685456161806, -0.15089603411625832, -0.42901854689275976, 0.08996950848443663, 0.8854493566688356, -0.46321325059489443, 0.4466347666235727, 1.1420020992819515, 1.1586298737201797, 0.1235324956599045, 1.5616070413280465, 0.1093697890221821, -2.0147360812624098, 1.4136519972173345, 0.9984300870392965, 1.6046986912021344, -0.7943006982197781, -2.0112420984179793, -0.7602451577575641, -0.1131202149253501, -0.20280000942675214, 0.851575887183524, -0.7187200790013291, -0.39589677153160324, 0.2133254834652023, 1.4420332295777516, 0.19363009578463009, 0.35715615484703056, -1.0641785007306335, -0.6937027630591326, -0.0027207433770760348, 0.4408575643003414, -0.58311893876661, -1.1838763394969083, -0.5181010211205013, -2.4306251032516535, 1.1910246803144136, 1.536367292790937, -0.12481786064402177, -0.8188052157296669, 0.511153182701702, 0.49533337626584456, 0.35839586072112345, 0.16054985675465452, -0.2453641654522404, -1.288298397566892, -0.607045617935151, -0.5422857756566204, -0.041098054973625175, 0.19679423948566588, 1.420443487519585, 0.1001989109245823, 0.24142687491225678, -1.0889514869411419, -1.1866767893215093, -0.328954135721465, -2.4595468039341677, 0.24808281366042392, -0.8078022969659164, 0.25891838810937806, -0.09727687748567396, 0.8172578237637879, -0.4183972585956006, 0.7876875234786457, -0.5531090581754529, 0.35291409046486955, -0.7713770425491792, -0.9485380403723122, 1.8720408231442442, -0.2477655369890803, 0.6387795948870926, 1.0896118458130786, 0.45870396920720485, -0.9561099016195018, 0.3269467331563592, -0.6311151385359081, 0.20695913905376404, 1.0561605866807056, 0.01664080083911069, -1.005994627388293, 0.4372188175767709, -1.3949694653625395, -1.5403653158209454, -0.054898377526492695, -1.0167851931269722, 0.5688699662626703, 0.21066077963382726, 0.5870708938332518, -0.410151398368764, -0.012529043110866743, -0.37525405016168856, 0.1383672379089253, 0.41974579652243577, 0.848550964095163, -0.6803500576535524, 2.171698854521117, 0.32949218473294295, 0.9741260826846109, 1.6346538485932005, 0.06245483919212857, -0.5740650576612145, -1.2292628118481295, -1.7398035010598154, -2.02439963299455, -0.9666982969136584, -0.9039029610671349, 1.0683689052329284, -0.2606673242373959, -0.21840122499883555, 0.32323849977600405, -0.34343790871449664, 0.6332449270282308, 1.2135380063052177, -0.5373650203650353, -1.5723170412995264, -2.6869633223638476, -0.3714098856717127, 0.42540597945801994, -0.0487395405705307, -0.7143145747777443, 0.16343982687595315, -2.8536146341386712, -0.29097894995076556, -0.10274526271065193, 0.9607035511403931, -0.7652293471228714, -0.23236769293002182, 1.0073778257769708, 0.350691995616191, 0.4648579732301587, 0.4597220634788178, 0.00458889392923349, -2.0476333719363895, -0.40616764077283724, 0.4087780260318468, 0.48431457194377303, -0.41114232269263423, -0.6659125883253508, 0.5321555805432974, 0.9464767031367606, 1.38778925683578, 0.8681929845236538, 0.21133617658535653, -0.8801411789762367, -0.05682291660118501, 0.5248560003172251, 2.24960871920354, -2.1026368307384247, -0.9313759717653981, 0.7124239245710492, -0.22533985448851823, 0.5487722669935893, -1.6355422184993778, -0.2342800029705533, 0.8697194984861332, 0.016897634807928424, -0.524274226454514, 0.28145276084844983, 0.048291994007357494, 0.24926832300535856, -0.6707791927056148, -0.8188343952350174, -1.995126093897146, 1.2740310448124779, 1.1743327019725676, -0.5752356986858082, -0.05287357500658601, -1.2360961515512658, 0.7901104411953609, 0.09436490192024234, 1.0171014257616304, 0.16220764895937262, -1.3442662125455629, 0.24924689526366176, 2.154331500966845, -1.0253930611116104, -0.3049263049471081, 0.12383107365164267, -1.7414069403762364, 1.4826218215610332, -0.3028577330146131, -1.9011981366304378, -2.2712711666146896, 0.1575578667251915, 0.3210909322822925, -0.91353893725725, -2.039564394493953, -0.7367806738584914, 0.874333017888344, 0.10279099434022416, 0.3543478178097927, -0.10153135248937557, 0.13589921476795244, 0.4544526435828897, 0.9595671253003878, 0.68956883545006, -0.24310736856606524, -1.7850693525244634, 0.4538096280538783, 0.540404904583505, -1.3283796226124382, 1.1856091797660633, -1.6752063239344062, 0.09465627234771848, -0.2632301027290812, -0.18440828340523968, 0.25102923713424374, 0.7975348342305587, 1.080224568033179, -0.37101010935690465, 2.846620700257037, 1.9577149087848227, 0.406037467365924, 1.5136383382003729, 0.3341784673993391, -1.6788709283405654, -1.7091054789214442, 1.1435265629376792, 0.3832014868989088, -1.13961824203515, -0.7634512278898645, -0.3022464606428484, 0.08119796823029131, -1.022920342711183, -0.4472581157232592, -0.3884416432514188, -0.6862766536790935, 1.4381649105463508, -0.18785363910200267, -0.537817146736092, -0.11801692395468633, 1.7995036506650355, 0.5609391899667698, 0.3428123917506483, -1.1343892310226693, 0.39545477005209817, -0.6889214848751566, 0.4116190977871739, -0.1653251035209528, 0.3590277594884053, -0.6250901355833898, -0.4767976728082307, -0.030979982801667187, 0.24584325341391075, 0.2766781281074401, 0.8948452622428049, -2.070342597378404, -1.5278198929416413, -1.5003138650628294, -0.22922910582433495, 0.4856130317248966, 0.8224016057825194, -0.0004821424533872327, -0.9682032406910597, 1.8489805499139675, 0.36375078624648755, -1.4770718063318669, 0.18374519130408132, 0.0330182306071461, -0.5874646767845723, -0.9678368758548489, 0.07773354031962669, 1.0180890075932125, 0.7801058907903872, 1.597217916398591, 0.9299950830839245, -0.6330550715628298, 0.15628933996412603, -1.4764589723549488, 0.29102690644681034, -1.4430713995287783, -0.37024771130669454, -0.5611794939753474, 1.4320754354120093, 1.8010800979634316, -0.5903827285715549, 1.2871290610130968, 0.6509346886844055, -0.5921448367078941, 1.096152169319381, 1.2224239465057696, -1.5562810976230979, -0.8378343992376146, -0.42670696943312403, -0.6956300204117736, 0.3982598249202935, -0.17348011133533683, -0.5358327395753383, -0.9395272540423413, 0.249937367997115, 0.9921661466790274, 1.2233100609361494, -0.8166544465376286, 0.48447701442523433, 1.685131356099214, 1.1350983179012053, 1.133069106634688, 0.7382599331292955, -0.5179678043563242, -0.33043009610851237, -1.8829147337421595, 1.5996390642738134, 0.12113836333178057, 0.7225306923816861, 1.9728824819517052, 1.1371318667945807, -1.2227256721595559, 1.0651397485191096, -0.7280405247648317, -1.429707052127561, 0.5619095439097733, 0.11848766499214695, 0.0203584733147933, -0.8254749366029871, -0.9064278288575334, 0.3840861653140627, -0.1330441281863442, 1.11034785183075, 0.05751912147712891, 2.0670443308092805, -0.9697356564596554, 1.494896527702539, -1.0663720038254907, -0.4332673280353513, 1.7631313019279036, -0.3499745199654612, 0.7180158861926479, 0.7359977721194609, -0.8109333979910125, 1.814919864609128, 0.20682428991663276, 1.2289423246324545, 0.653907161779641, -0.9329820506611848, -0.3469812772230679, 1.1627265259934814, -1.04188454613343, 0.07405176310951883, -0.5989725712339968, -0.3909016965959348, -1.6290626779953785, 0.507530371411141, 0.5893986526147532, -0.7396863099970075, 0.25447625368861543, -0.33406566166871093, -1.1037663454907742, 1.249927890186485, 0.08491209840958498, 1.2374321798779957, -0.9832793852967002, -1.0378194631344722, 0.8881786655862475, -1.0132780346479267, 0.9500976732054469, 1.2558007790453074, -0.797182954043592, 0.4036216615027512, -1.0855973129262637, -0.5223294480334473, -0.45349808368433486, 0.7215289095741232, -0.33815174730892866, -0.4835880150844284, 0.592989527691496, -0.3717794423795317, -0.22815690998659977, -0.7830206999804319, 2.3321184788129106, 0.6418557517820824, -2.1393265638414416, 1.1933379712284578, -0.11512623759125606, -0.1729381212079333, -0.7348534458148182, -0.07495559723889439, -0.9282936324724882, -0.3798820244113334, -1.0383231037609602, -0.7987523475475807, 0.4973032087074518, -0.5947628212289211, 0.1966942631804847, 1.2973558252644177, -1.1311788217681218, 1.4394054684523925, -0.24557101637977408, 1.4036149171752386, 0.45491147356262585, 0.3940982910273791, -2.3133607965666463, 1.2101748481482304, -0.23745298181129576, 0.4652338522754867, -0.25065623661623576, 1.176811880703545, 1.5731332263858107, 0.17612525093148013, -1.3101790490136043, -0.4622106057424392, 0.4172493460412347, -1.0686556298229717, -0.6221575964435373, -0.32603637345163083, 0.0785327151697817, -1.4409117441365427, -1.800006521560868, -1.1606068969714363, -1.4106837562966859, 1.9189354472432554, 0.3330830999628589, 0.7633647283410677, -1.125448394345199, -0.9033521238035389, -0.5772789557634241, -1.5127622223327506, 0.5698433838192676, -1.5119297040963915, 1.443917097800173, 0.20934308757076328, 0.11739695278806979, 0.9471167706075119, 0.21322206162012827, 1.3684998370770092, 0.01006087142178792, 0.8595007112343066, 0.903634348119723, -2.2119406904849965, -1.1914186573162795, -1.2776093494250536, 0.462642479629353, -1.5386286942907152, 0.31489465786517334, -0.6771086865758553, -1.3276627387235627, -1.0502791531681337, 0.3940583325073773, 0.39694760726388467, -0.6777792304443516, 0.0824601823713287, 0.09934028558277148, 0.8228026183984066, -0.9942463534848416, 0.13703284552295714, -1.4430051561250328, -1.1524905961488487, 0.3432725412934606, -0.583649105357359, -0.2134679383735358, 0.7146464242858314, -0.2590309387413645, -0.03870914043803826, -1.307056794995969, 1.4457919858341028, 0.05515633977445182, 0.6640964908620827, 1.2760168437432124, -1.0981023440323878, 0.292268390354099, -1.11991397767497, 0.021966383103440134, -0.4741408243616679, -0.37615084030537455, 0.7639866610859939, 0.4881558519330312, 0.07317576618993228, -2.345263850764594, 0.038758330479618706, -0.20263897492127392, -2.563573151050428, 0.07321870127426552, 0.79077687312274, 0.623122309337069, 0.3316725497398203, 0.08446757605146217, 0.9926761147449976, -1.1409217026555347, 0.1093994735557015, -0.6505676209560605, 0.03553805017939171, 0.41781487978739895, 1.285954384021236, 1.1336007144448608, 1.006099856211597, -1.8721621047192543, 2.073708226883589, -0.9666111382343618, 0.3787882636163446, 0.28404648618263817, 0.15422254253673845, -0.006471691947565358, 0.9878246264349636, -1.7221363594758778, -1.4874122356571253, 0.5217253346095386, -0.8078895433028134, -2.155065469316821, 0.6574866925506001, 0.36520244185404416, -0.6921154902171882, 1.5844549969712776, 1.5639950310955677, 0.5166155391384818, -0.241904973330464, -0.921773540131465, 0.2848712149673134, 0.7849468682266898, 0.5487957849009802, 2.0782093074833545, 0.39187710106511864, -0.022402506559368974, 0.8124940888108746, -0.4786364922823677, 0.27048193848349, 0.5086307895047744, 0.3913737928203619, -1.081210744072932, -0.19218064439698845, -0.19236540385188874, 0.6134468553790398, 1.2439601406750507, 0.5335285094284667, 0.0871124966731962, 1.5958342560875887, 1.5915480352345426, 0.10879463504025189, -0.8824818119078142, 2.2817274473446667, 0.7125295476512221, -1.4990725466745092, 0.8956835325430086, -0.22794984024113554, -0.15693755924374342, 0.9946673016055994, -1.1812918982982328, 0.4151231152308775, -0.10155244024388096, 0.6316617184221275, -0.63076667317779, -0.31363236025573565, -0.6687442811147072, 0.6574659720271293, -1.256009560620682, 1.0479122992925352, -0.8652541924688611, -0.7218316472487109, -0.13670694987800025, -0.5794707683375774, 1.5063021240494223, 0.27830588147871993, 1.9439298999885994, -0.9693394030258651, 0.03263585684156715, -0.13289790594835008, 0.2718544807923038, -1.3630856546451326, -1.1462519672248717, 0.11989493919003584, -0.27243709060520355, -2.5537556236768064, -2.008195307087348, 0.09312247128138341, -1.9690379493553125, -1.3730841402936074, 0.31939913197173153, 0.4842289667693241, -0.8942506834698126, 0.20319824463303732, -0.8924185398794615, -0.16390595556446985, -0.688016279146731, 2.487603112109474, -0.6421113152380425, 0.5282808333095591, 0.11571978173453741, 0.01161772884798428, -0.06505424126964929, -0.7022439730830908, 0.4787746086221262, 0.28320163882927263, 1.1984814660395087, 0.5422565987417939, 0.07905613158704161, -0.6160460527237068, 0.8352780457817707, 1.3965662891278787, -1.0154173698273987, 0.3665236109181534, -1.9998498804356306, 0.5272616270013023, -0.6373514036482701, -0.057302291534717546, -0.45016171931880034, -0.5382284690278248, -0.585941452080795, 0.06317829808353946, 0.5860226428614085, 1.1520595220589074, 0.9414974203197717, 0.31332199200723737, -1.2842789015972178, 0.15064400972444722, 1.8245891516803294, -0.39229126599814484, 2.1808813247536443, 0.7639557965616761, -0.4654651583849654, -0.7791550128494558, -0.5520400307901564, 0.1321336514032458, -0.37996526884039383, -0.5434968090565463, 0.5133479011555987, -1.139443467070571, 1.8273677420727594, -0.7686309504023465, 0.5715781779610077, 1.9143600402296497, -0.12692107362037175, -1.1414746586497413, -0.6475455391731304, -0.18376661766901523, -0.11766432942834643, 0.25821861418765163, -0.7279384406457267, -0.6074963898772712, -0.04693316746684137, 0.8625060005872126, -0.4688906725121306, -0.19495021708906124, -0.5553516241749651, 0.35882029041810654, 0.7530832597284386, 1.2903597179061674, -1.339039006737092, 1.5145498119004093, -0.12774666725898964, -0.7264794855497918, 0.7120466330584664, 0.5122549354729409, -1.7473762013799374, -0.3016980273812645, -0.022692210600652636, -1.0874931587468115, -0.1866634190365817, 0.48076222924492534, -0.3117035845583821, 2.5448659414033843, -0.16637982121736353, -0.15018581832202194, -0.4005678833762349, 0.23982364467904838, -0.6973275852601032, -1.0481514253834059, 0.34787158945022356, -0.21891122418477812, -0.9658572274572044, 0.3121882443199205, 0.274871867967295, -0.8309729045347164, -0.7228120139166095, 0.19888373362639694, 0.602523049214208, -0.09923335991610598, -1.7541174656937992, -0.07969351352639871, 1.3439764933024958, -0.21964830522883633, -2.3229552704940923, -0.8471125158135392, 0.5325322879807717, 1.1605173708403018, 0.17585266398756366, 0.2936883454843182, -1.011347658261968, -1.27099186963109, -0.8769344886571131, 2.46314235862086, -0.00946468802736615, -0.5234746063158764, -0.879456969639138, 0.9242448803687398, -0.5677173282894022, -0.6365540099067345, 0.115196649366556, 1.561413164401463, -0.3581174515581611, 1.2172733868864043, -1.096476992609792, -0.15242247111192705, -0.1882493511204748, -0.5189632452020939, 0.00882070411592238, -1.3776441513779774, -1.1507899495734506, -1.7617675558209387, -0.007273481837717047, -2.3047560943882033, -0.9522643920766917, -0.450549337608492, 0.17568940637205935, -0.5356996403546221, -0.43539527992598964, 0.15795802280323112, 0.5008277804712162, 0.586621868442064, -0.14949373596132282, -1.822001014880193, -0.27925398003362323, -0.9275542731423246, -1.9915782017805932, 1.205413366993104, -1.4540054619585057, 0.7733080408735115, -0.2742605258952369, 1.6322628471318001, 2.298951450884939, 2.0005702249688118, -0.8981157061177252, -0.879968499797125, 0.09363468625699944, -1.4877675164179505, -0.19700474125427003, 0.8976167618624386, 0.6773142913474223, -2.040467645842901, 0.8870088800254343, -0.007167169008623143, 0.4491368951646801, -0.0855882003217377, 0.8596113668822912, 0.3575553720628787, -0.3122776664391976, 0.5703605614346008, -0.35433087923786094, -0.2738067529632717, 0.5828971742790688, 0.3873535838695666, 1.5739740490972283, -1.1804736479411906, -0.6167726015216737, -1.6481529165157198, -0.20781460597684742, -0.058998437847434006, 0.9901391638461062, 1.107879885012313, -0.18931249403971934, -1.4024130011659948, -1.5430516004802464, -0.3548926851497878, 1.3105918935999283, 0.3621788532003052, 0.20441481982724788, -1.1475191821242894, -0.4458722103432636, 0.3328833341879476, -0.31017436319255454, 1.6328876489674544, -0.031197852532485974, 0.42305509692144266, 0.18027323013941002, -1.0764437586707907, 1.1825335736770681, -1.0041140819032792, 0.943713897347464, 0.33281978802793294, -1.655650375102113, -0.8983931244645598, -0.1414267858085381, 1.072716299246201, -0.7268291260157845, 1.8011286769478771, -0.45500281998715725, -0.7169710327020443, -0.41194619234799373, -1.620660660135875, 0.4232471216535127, 1.1778971776137415, -0.6079051701539081, -0.5625383991374551, -0.031117266207269623, 0.9004684026521924, -0.036889521671379835, 0.4154083675358505, -0.3204878390949919, 0.20392959311274905, 0.24352949422292502, 0.6007584857969531, -0.5303137816532699, -1.0785636156916147, 0.9774549076009027, -1.3999852362636616, -0.28019044841224305, -2.0958592196366475, -1.0358881182373338, -1.0189754186306021, -0.9675256239906475, -0.8085784192825675, -2.6721600316434153, 2.128780875202985, -1.062682845858647, 1.713106463776262, 1.5584747885930788, 0.8821981228700851, -0.579124099884551, -0.02228086610192883, -0.03168771987697062, -0.5729316921167762, 0.5943861177487809, 1.126781928956672, 0.0480597039567047, 0.4629748773927444, -1.319157772861893, 0.21141952840194927, -0.13710254547276443, 2.458008511068962, -0.9559217330634342, 2.78801289508895, -0.5328333401274118, 0.6972508545761577, 1.0634585022686445, -0.29503316923405604, -0.23475665002855914, 0.7160293345453564, 0.328637412352377, -1.360291570154382, 0.35729242960953245, -1.3780345763608457, -0.7766271006139522, 0.39305984209161504, -0.3144876761245021, 1.1779735324404088, -0.8476311854917865, 0.8377272747081069, -0.4492899526219272, -0.2608226827929815, -1.127677401989048, 1.2746219154319345, 0.7776903068082117, 0.3633327891792554, 0.8778327795673816, 1.4399681928617398, -0.6089793451491675, 1.6404704108614911, 0.06944645653837042, 0.8768878045395542, 0.7099365622248969, 0.1535346118569123, -0.03104081325356292, 1.9249748800943405, -0.6181495413864173, -1.6918181205395328, -1.119434108594999, 0.5589545249745178, 1.667429471400852, 0.29555755365562225, 0.2605277660156068, 0.9529393472442933, 0.9981435163727638, -0.8821186884684107, 0.13343292147746963, 0.25241743216333873, 1.433930829994442, 0.5300985416895336, 0.08003201238412166, -0.8019937805931171, 0.7305206436346734, 0.22353259485186877, 2.2367309175618657, -1.2839852849583957, 0.9358428133942898, 1.6374356171392512, -0.3222406897757747, 0.3712551407210559, -0.5268943172259004, -0.14473910550405783, -0.4075362183275934, -0.5968004532937743, 0.17643242210991714, -1.0254004383449535, -0.6300114471341465, 0.04509649265518729, -1.537616354517603, 1.2458284027192095, -0.7521413291795942, -1.3426490088707757, 0.5340326789099196, 2.108632995598264, -2.0545382080916528, 0.5957774207311856, 1.251874544975371, -0.7297167123622397, -0.5569591848521593, -0.4726946779579422, -0.3339484318617531, 0.44823544039895047, 0.7235163534729532, 0.5046928993513133, 0.6514373861517129, -0.8286025588965347, 1.0580510444743112, 1.4005093673468438, -0.541949459194914, 2.3021418142716783, -0.3447542522798089, -0.6680568214516515, -0.1862658439122916, -1.3078271870576144, -0.5309959434381003, -1.0746611829212223, -0.12327063926008647, -0.905746180341327, 1.1411294562315115, -1.2316422168144192, 0.40909522665127945, -1.0466783630669803, 1.0107983238904836, -1.7538566981482449, -0.31938469849243756, -0.41163550169249213, -0.47428960938716064, -1.207320500989767, -0.6090646387012569, 0.03302541454094333, -0.9429934731597895, 0.590414757835123, 0.2271267257511748, -0.4783847516358878, 1.1078795497218656, 0.15066118598569359, -0.3507066917983491, 1.2216922405655042, 0.5415834957092488, 0.6845533560368797, -0.08051243685842682, -0.6301575622010426, 1.053809153169526, 1.4876151893629845, -1.116940148590119, -0.18189765175859296, 0.6649452637939208, -1.1570216660494796, 1.697650117558733, -0.8844307860997168, -0.1419048980884342, 0.4722911325574721, -0.5921391369148911, -0.04837259304131134, -0.05722698369796646, 0.5929718825502797, -0.5325624916343195, 0.5059136972779456, 1.8007038723194415, 0.9582550822128338]\n",
            "Total number of data within 1st standard deviation= 999\n",
            "Total number of sample =  1000\n",
            "Percentage of data within 1st standard deviation -  0.999\n"
          ]
        }
      ]
    },
    {
      "cell_type": "code",
      "source": [
        "#percentage of data outside 3rd standard deviation\n",
        "\n",
        "data_outside_3rd_std_dev = []\n",
        "\n",
        "for val in data:\n",
        "  if(val < lf_3 or val > uf_3):\n",
        "    data_outside_3rd_std_dev.append(val)\n",
        "\n",
        "print(data_outside_3rd_std_dev)"
      ],
      "metadata": {
        "colab": {
          "base_uri": "https://localhost:8080/"
        },
        "id": "ZFckvBIc_f4y",
        "outputId": "aab16b57-9e4c-4d3d-b010-de1b2b88da4a"
      },
      "execution_count": 83,
      "outputs": [
        {
          "output_type": "stream",
          "name": "stdout",
          "text": [
            "[-2.9937622389291882]\n"
          ]
        }
      ]
    },
    {
      "cell_type": "code",
      "source": [],
      "metadata": {
        "id": "qqCATYQJEK_s"
      },
      "execution_count": null,
      "outputs": []
    }
  ]
}